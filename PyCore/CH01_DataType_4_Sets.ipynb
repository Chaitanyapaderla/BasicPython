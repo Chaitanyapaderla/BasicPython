{
 "cells": [
  {
   "cell_type": "markdown",
   "metadata": {},
   "source": [
    "# Data Type : Set"
   ]
  },
  {
   "cell_type": "markdown",
   "metadata": {},
   "source": [
    "## Create Sets"
   ]
  },
  {
   "cell_type": "code",
   "execution_count": 1,
   "metadata": {},
   "outputs": [],
   "source": [
    "s1 = set( [ \"a\", \"b\" , \"c\" , \"d\" ] )\n",
    "s2 = set( [ \"a\", \"b\" , \"c\" ] )\n",
    "\n",
    "l1 = list(range(5))\n",
    "\n",
    "s3 = set(l1)\n",
    "s4 = set(range(4,9))"
   ]
  },
  {
   "cell_type": "code",
   "execution_count": 2,
   "metadata": {},
   "outputs": [
    {
     "name": "stdout",
     "output_type": "stream",
     "text": [
      " s1 =  {'c', 'a', 'd', 'b'}\n",
      " s2 =  {'c', 'a', 'b'}\n",
      " s3 =  {0, 1, 2, 3, 4}\n",
      " l1 =  [0, 1, 2, 3, 4]\n"
     ]
    }
   ],
   "source": [
    "print(\" s1 = \", s1)\n",
    "print(\" s2 = \", s2)\n",
    "print(\" s3 = \", s3)\n",
    "print(\" l1 = \", l1)"
   ]
  },
  {
   "cell_type": "raw",
   "metadata": {},
   "source": [
    "| Method                      | Description                      |\n",
    "| ---:                        | ---:                             |\n",
    "| s1.isdisjoint(l1)           | Portion not common in s1 and l1  |\n",
    "| s1.issubset(s2)             | True if s1 is subset of s2       |\n",
    "| s1.intersection(s2)         | Gets the common elements         |\n",
    "| s1.difference(s2)           | Return element in s1 not in s2   |\n",
    "| s1.symmetric_difference(s2) | Return the symettical difference |"
   ]
  },
  {
   "cell_type": "markdown",
   "metadata": {},
   "source": [
    "## Set : Methods"
   ]
  },
  {
   "cell_type": "code",
   "execution_count": 3,
   "metadata": {},
   "outputs": [
    {
     "name": "stdout",
     "output_type": "stream",
     "text": [
      "#=-=-=-=-=-=-=-=-=-=-=-=-=-=-=-=-=-=-=-=-=-=-=-=-=-=-=-=-=-=-=-=-=-=-=-=-=-=-=-=-\n",
      " s1 =  {'c', 'a', 'd', 'b'}\n",
      " s2 =  {'c', 'a', 'b'}\n",
      " s3 =  {0, 1, 2, 3, 4}\n",
      " l1 =  [0, 1, 2, 3, 4]\n",
      "#=-=-=-=-=-=-=-=-=-=-=-=-=-=-=-=-=-=-=-=-=-=-=-=-=-=-=-=-=-=-=-=-=-=-=-=-=-=-=-=-\n",
      "s1.isdisjoint(l1)           =>  True\n",
      "s1.isdisjoint(s2)           =>  False\n",
      "s2.issubset(s1)             =>  True\n",
      "s1.intersection(s2)         =>  {'a', 'c', 'b'}\n",
      "s1.intersection(l1)         =>  set()\n",
      "s1.difference(s2)           =>  {'d'}\n",
      "s2.difference(s1)           =>  set()\n",
      "s1.symmetric_difference(s2) =>  {'d'}\n",
      "s2.symmetric_difference(s1) =>  {'d'}\n",
      "s1.symmetric_difference(l1) =>  {0, 1, 2, 3, 4, 'd', 'a', 'c', 'b'}\n"
     ]
    }
   ],
   "source": [
    "print(\"#\" + \"=-\"*40)\n",
    "print(\" s1 = \", s1)\n",
    "print(\" s2 = \", s2)\n",
    "print(\" s3 = \", s3)\n",
    "print(\" l1 = \", l1)\n",
    "print(\"#\" + \"=-\"*40)\n",
    "\n",
    "print(\"s1.isdisjoint(l1)           => \", end=' ') ; print(s1.isdisjoint(l1))\n",
    "print(\"s1.isdisjoint(s2)           => \", end=' ') ; print(s1.isdisjoint(s2))\n",
    "print(\"s2.issubset(s1)             => \", end=' ') ; print(s2.issubset(s1))\n",
    "print(\"s1.intersection(s2)         => \", end=' ') ; print(s1.intersection(s2))\n",
    "print(\"s1.intersection(l1)         => \", end=' ') ; print(s1.intersection(l1))\n",
    "print(\"s1.difference(s2)           => \", end=' ') ; print(s1.difference(s2))\n",
    "print(\"s2.difference(s1)           => \", end=' ') ; print(s2.difference(s1))\n",
    "print(\"s1.symmetric_difference(s2) => \", end=' ') ; print(s1.symmetric_difference(s2))\n",
    "print(\"s2.symmetric_difference(s1) => \", end=' ') ; print(s2.symmetric_difference(s1))\n",
    "print(\"s1.symmetric_difference(l1) => \", end=' ') ; print(s1.symmetric_difference(l1))"
   ]
  },
  {
   "cell_type": "markdown",
   "metadata": {},
   "source": [
    "## Set : Logical operations"
   ]
  },
  {
   "cell_type": "code",
   "execution_count": 4,
   "metadata": {},
   "outputs": [
    {
     "name": "stdout",
     "output_type": "stream",
     "text": [
      "s2 < s1  =>  True\n",
      "s2 <= s1 =>  True\n",
      "s2 > s1  =>  False\n",
      "s2 >= s1 =>  False\n",
      "s3 >= s1 =>  False\n",
      "s3 <= s1 =>  False\n"
     ]
    }
   ],
   "source": [
    "print(\"s2 < s1  => \", end=' ') ; print(s2 < s1)\n",
    "print(\"s2 <= s1 => \", end=' ') ; print(s2 <= s1)\n",
    "print(\"s2 > s1  => \", end=' ') ; print(s2 > s1)\n",
    "print(\"s2 >= s1 => \", end=' ') ; print(s2 >= s1)\n",
    "print(\"s3 >= s1 => \", end=' ') ; print(s3 >= s1)\n",
    "print(\"s3 <= s1 => \", end=' ') ; print(s3 <= s1)"
   ]
  },
  {
   "cell_type": "markdown",
   "metadata": {},
   "source": [
    "## Set : Arthematic operations"
   ]
  },
  {
   "cell_type": "code",
   "execution_count": 5,
   "metadata": {},
   "outputs": [
    {
     "name": "stdout",
     "output_type": "stream",
     "text": [
      "#=-=-=-=-=-=-=-=-=-=-=-=-=-=-=-=-=-=-=-=-=-=-=-=-=-=-=-=-=-=-=-=-=-=-=-=-=-=-=-=-\n",
      " s1 =  {'c', 'a', 'd', 'b'}\n",
      " s2 =  {'c', 'a', 'b'}\n",
      " s3 =  {0, 1, 2, 3, 4}\n",
      "#=-=-=-=-=-=-=-=-=-=-=-=-=-=-=-=-=-=-=-=-=-=-=-=-=-=-=-=-=-=-=-=-=-=-=-=-=-=-=-=-\n",
      "s1 & s2  =>  {'a', 'c', 'b'}\n",
      "s1 | s2  =>  {'d', 'b', 'a', 'c'}\n",
      "s1 - s2  =>  {'d'}\n",
      "s2 - s1  =>  set()\n",
      "s1 ^ s2  =>  {'d'}\n",
      "s2 ^ s1  =>  {'d'}\n"
     ]
    }
   ],
   "source": [
    "print(\"#\" + \"=-\"*40)\n",
    "print(\" s1 = \", s1)\n",
    "print(\" s2 = \", s2)\n",
    "print(\" s3 = \", s3)\n",
    "print(\"#\" + \"=-\"*40)\n",
    "\n",
    "print(\"s1 & s2  => \", end=' ') ; print(s1 & s2)\n",
    "print(\"s1 | s2  => \", end=' ') ; print(s1 | s2)\n",
    "print(\"s1 - s2  => \", end=' ') ; print(s1 - s2)\n",
    "print(\"s2 - s1  => \", end=' ') ; print(s2 - s1)\n",
    "print(\"s1 ^ s2  => \", end=' ') ; print(s1 ^ s2)\n",
    "print(\"s2 ^ s1  => \", end=' ') ; print(s2 ^ s1)"
   ]
  },
  {
   "cell_type": "code",
   "execution_count": 6,
   "metadata": {},
   "outputs": [
    {
     "name": "stdout",
     "output_type": "stream",
     "text": [
      "s1 | s3  =>  {0, 1, 2, 3, 'd', 4, 'a', 'c', 'b'}\n",
      "s3 | s1  =>  {0, 1, 2, 3, 4, 'd', 'b', 'a', 'c'}\n",
      "\n",
      "s1 & s3  =>  set()\n",
      "s1 - s3  =>  {'a', 'd', 'c', 'b'}\n",
      "s3 - s1  =>  {0, 1, 2, 3, 4}\n",
      "s1 ^ s3  =>  {0, 1, 2, 3, 4, 'd', 'b', 'a', 'c'}\n",
      "s3 ^ s1  =>  {0, 1, 2, 3, 'd', 4, 'a', 'c', 'b'}\n"
     ]
    }
   ],
   "source": [
    "print(\"s1 | s3  => \", end=' ') ; print(s1 | s3)\n",
    "print(\"s3 | s1  => \", end=' ') ; print(s3 | s1)\n",
    "print(\"\")\n",
    "\n",
    "print(\"s1 & s3  => \", end=' ') ; print(s1 & s3)\n",
    "print(\"s1 - s3  => \", end=' ') ; print(s1 - s3)\n",
    "print(\"s3 - s1  => \", end=' ') ; print(s3 - s1)\n",
    "print(\"s1 ^ s3  => \", end=' ') ; print(s1 ^ s3)\n",
    "print(\"s3 ^ s1  => \", end=' ') ; print(s3 ^ s1)"
   ]
  },
  {
   "cell_type": "markdown",
   "metadata": {},
   "source": [
    "Note: Order is not maintain"
   ]
  },
  {
   "cell_type": "code",
   "execution_count": 7,
   "metadata": {},
   "outputs": [
    {
     "data": {
      "text/plain": [
       "{0, 1, 2, 3, 4, 'a', 'b', 'c', 'd'}"
      ]
     },
     "execution_count": 7,
     "metadata": {},
     "output_type": "execute_result"
    }
   ],
   "source": [
    "s1.union(s3)"
   ]
  },
  {
   "cell_type": "code",
   "execution_count": 8,
   "metadata": {},
   "outputs": [
    {
     "data": {
      "text/plain": [
       "{0, 1, 2, 3, 4, 'a', 'b', 'c', 'd'}"
      ]
     },
     "execution_count": 8,
     "metadata": {},
     "output_type": "execute_result"
    }
   ],
   "source": [
    "s1 | s3"
   ]
  },
  {
   "cell_type": "markdown",
   "metadata": {},
   "source": [
    "## Set : Unsupported operations"
   ]
  },
  {
   "cell_type": "code",
   "execution_count": 9,
   "metadata": {},
   "outputs": [
    {
     "name": "stdout",
     "output_type": "stream",
     "text": [
      "s1 + s2  =>  "
     ]
    },
    {
     "ename": "TypeError",
     "evalue": "unsupported operand type(s) for +: 'set' and 'set'",
     "output_type": "error",
     "traceback": [
      "\u001b[0;31m---------------------------------------------------------------------------\u001b[0m",
      "\u001b[0;31mTypeError\u001b[0m                                 Traceback (most recent call last)",
      "\u001b[0;32m<ipython-input-9-019005abed3b>\u001b[0m in \u001b[0;36m<module>\u001b[0;34m()\u001b[0m\n\u001b[1;32m      1\u001b[0m \u001b[0;31m# This looks like and union operation, but not supported\u001b[0m\u001b[0;34m\u001b[0m\u001b[0;34m\u001b[0m\u001b[0m\n\u001b[1;32m      2\u001b[0m \u001b[0;31m# Union is overloaded with or \"|\" operator\u001b[0m\u001b[0;34m\u001b[0m\u001b[0;34m\u001b[0m\u001b[0m\n\u001b[0;32m----> 3\u001b[0;31m \u001b[0mprint\u001b[0m\u001b[0;34m(\u001b[0m\u001b[0;34m\"s1 + s2  => \"\u001b[0m\u001b[0;34m,\u001b[0m \u001b[0mend\u001b[0m\u001b[0;34m=\u001b[0m\u001b[0;34m' '\u001b[0m\u001b[0;34m)\u001b[0m \u001b[0;34m;\u001b[0m \u001b[0mprint\u001b[0m\u001b[0;34m(\u001b[0m\u001b[0ms1\u001b[0m \u001b[0;34m+\u001b[0m \u001b[0ms2\u001b[0m\u001b[0;34m)\u001b[0m\u001b[0;34m\u001b[0m\u001b[0m\n\u001b[0m",
      "\u001b[0;31mTypeError\u001b[0m: unsupported operand type(s) for +: 'set' and 'set'"
     ]
    }
   ],
   "source": [
    "# This looks like and union operation, but not supported\n",
    "# Union is overloaded with or \"|\" operator\n",
    "print(\"s1 + s2  => \", end=' ') ; print(s1 + s2)"
   ]
  },
  {
   "cell_type": "code",
   "execution_count": null,
   "metadata": {},
   "outputs": [],
   "source": [
    "#example\n"
   ]
  },
  {
   "cell_type": "code",
   "execution_count": 10,
   "metadata": {},
   "outputs": [
    {
     "name": "stdout",
     "output_type": "stream",
     "text": [
      "{'c', 'a', 'd', 'b'} {'c', 'a', 'b'}\n"
     ]
    }
   ],
   "source": [
    "print(s1 , s2)\n",
    "\n"
   ]
  },
  {
   "cell_type": "code",
   "execution_count": null,
   "metadata": {},
   "outputs": [],
   "source": []
  }
 ],
 "metadata": {
  "kernelspec": {
   "display_name": "Python 3",
   "language": "python",
   "name": "python3"
  },
  "language_info": {
   "codemirror_mode": {
    "name": "ipython",
    "version": 3
   },
   "file_extension": ".py",
   "mimetype": "text/x-python",
   "name": "python",
   "nbconvert_exporter": "python",
   "pygments_lexer": "ipython3",
   "version": "3.6.5"
  }
 },
 "nbformat": 4,
 "nbformat_minor": 2
}
