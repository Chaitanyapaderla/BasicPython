{
 "cells": [
  {
   "cell_type": "code",
   "execution_count": 26,
   "metadata": {},
   "outputs": [],
   "source": [
    "class Factory(object):\n",
    "    \n",
    "    def __init__(self, name, location, product=\"Alloys\"):\n",
    "        self.name = name\n",
    "        self.location = location\n",
    "        \n",
    "        self.workers = []\n",
    "        self.minWorkers = 10\n",
    "        \n",
    "        self.ourWorkers = [ \"worker{0}\".format(i) for i in range(1, self.minWorkers) ]\n",
    "\n",
    "        \n",
    "    def checkin(self, person):\n",
    "        \n",
    "        # self is prepending to accessing the class attribute\n",
    "        if person in self.workers: \n",
    "            print(\"Oops: '{0}' already available. Check with watch man\".format(person))\n",
    "      \n",
    "        elif person not in self.ourWorkers: \n",
    "            print(\"'{0}' is not our Worker. Don't checkin\".format(person))\n",
    "        else:\n",
    "            self.workers.append(person)\n",
    "            print(\"'{0}' is checkin\".format(person))        \n",
    "        \n",
    "\n",
    "    def checkout(self, person):\n",
    "        \n",
    "        # self is prepending to accessing the class attribute\n",
    "        if person in self.workers: \n",
    "            print(\"'{0}' is checked out\".format(person))\n",
    "            self.worker.remove(person)\n",
    "      \n",
    "        elif person not in self.ourWorkers: \n",
    "            print(\"'{0}' is not factor.\".format(person))\n",
    "\n",
    "    def canStart(self):\n",
    "        return len(self.workers) == self.minWorkers\n",
    "    \n",
    "    def __str__(self):\n",
    "        return \"{0}\".format(self.name)\n",
    "    \n",
    "    def __repr__(self):\n",
    "        return \"{cls} - {0}\".format(self.name, cls=self.__class__.__name__)\n",
    "        "
   ]
  },
  {
   "cell_type": "code",
   "execution_count": null,
   "metadata": {},
   "outputs": [],
   "source": []
  },
  {
   "cell_type": "code",
   "execution_count": 27,
   "metadata": {},
   "outputs": [],
   "source": [
    "saiFact = Factory(\"SaiFact\", \"Kadivadu\")"
   ]
  },
  {
   "cell_type": "code",
   "execution_count": 28,
   "metadata": {},
   "outputs": [
    {
     "data": {
      "text/plain": [
       "Factory - SaiFact"
      ]
     },
     "execution_count": 28,
     "metadata": {},
     "output_type": "execute_result"
    }
   ],
   "source": [
    "saiFact"
   ]
  },
  {
   "cell_type": "code",
   "execution_count": 29,
   "metadata": {},
   "outputs": [
    {
     "name": "stdout",
     "output_type": "stream",
     "text": [
      "'worker1' is checkin\n"
     ]
    }
   ],
   "source": [
    "saiFact.checkin(\"worker1\")"
   ]
  },
  {
   "cell_type": "code",
   "execution_count": 30,
   "metadata": {},
   "outputs": [
    {
     "name": "stdout",
     "output_type": "stream",
     "text": [
      "'worker2' is checkin\n"
     ]
    }
   ],
   "source": [
    "saiFact.checkin(\"worker2\")"
   ]
  },
  {
   "cell_type": "code",
   "execution_count": 31,
   "metadata": {},
   "outputs": [
    {
     "name": "stdout",
     "output_type": "stream",
     "text": [
      "Oops: 'worker1' already available. Check with watch man\n"
     ]
    }
   ],
   "source": [
    "saiFact.checkin(\"worker1\")"
   ]
  },
  {
   "cell_type": "code",
   "execution_count": 32,
   "metadata": {},
   "outputs": [
    {
     "name": "stdout",
     "output_type": "stream",
     "text": [
      "'Muni' is not our Worker. Don't checkin\n"
     ]
    }
   ],
   "source": [
    "saiFact.checkin(\"Muni\")"
   ]
  },
  {
   "cell_type": "code",
   "execution_count": null,
   "metadata": {},
   "outputs": [],
   "source": []
  }
 ],
 "metadata": {
  "kernelspec": {
   "display_name": "Python 3",
   "language": "python",
   "name": "python3"
  },
  "language_info": {
   "codemirror_mode": {
    "name": "ipython",
    "version": 3
   },
   "file_extension": ".py",
   "mimetype": "text/x-python",
   "name": "python",
   "nbconvert_exporter": "python",
   "pygments_lexer": "ipython3",
   "version": "3.6.5"
  }
 },
 "nbformat": 4,
 "nbformat_minor": 2
}
