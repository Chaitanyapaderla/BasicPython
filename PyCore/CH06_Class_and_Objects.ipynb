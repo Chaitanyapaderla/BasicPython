{
 "cells": [
  {
   "cell_type": "markdown",
   "metadata": {},
   "source": [
    "# Class and Objects\n",
    "    * Creating a class \n",
    "    * Creating Objects\n",
    "    * Class Magic Methods\n",
    "    "
   ]
  },
  {
   "cell_type": "markdown",
   "metadata": {},
   "source": [
    "# Class\n",
    "  * Collection properties/Attributes and Methods\n",
    "  * Should have __init__ method\n",
    "      * Should have a property which uniquly identies the Object. In this example \n",
    "           * regNo, owner(Can be options)\n",
    "  * Collection of tasks for the method"
   ]
  },
  {
   "cell_type": "code",
   "execution_count": 1,
   "metadata": {},
   "outputs": [],
   "source": [
    "class Car:\n",
    "    wheels = 4\n",
    "    \n",
    "    def __init__(self, regNo, owner, make=\"Default\" , model=\"Default\" ):\n",
    "        print(\"Called the __INIT__ function\")\n",
    "        self.regNo = regNo\n",
    "        self.owner = owner\n",
    "        self.make = make\n",
    "        self.model = model\n",
    "        self.seats = 4 ;\n",
    "        \n",
    "        self.distance = 0\n",
    "        self.people = []\n",
    "        \n",
    "    def hasVacency(self):\n",
    "        return len(self.people) < self.seats\n",
    "\n",
    "    def checkin(self, person):\n",
    "        # self is prepending to accessing the class attribute\n",
    "        if person in self.people: \n",
    "            print(\"{0} already available.\".format(person))\n",
    "      \n",
    "        elif self.hasVacency(): \n",
    "            self.people.append(person)\n",
    "            print(\"'{0}'' is checkedin\".format(person))\n",
    "        else:\n",
    "            print(\"No Vacency for {0}, try later\".format(person))\n",
    "\n",
    "    def checkout(self, person):\n",
    "        # self is prepending to accessing the class attribute\n",
    "        if person in self.people: \n",
    "            self.people.remove(person)\n",
    "        else:\n",
    "            print(\"No passenger with name: \", person)\n",
    "            \n",
    "    def drive(self, miles):\n",
    "        self.distance += miles\n",
    "\n",
    "    def picnic(self):\n",
    "        # self to accessing the class attribute\n",
    "        self.checkin(\"Muniswara\")\n",
    "        self.checkin(\"Rajitha\")\n",
    "        \n",
    "    def show(self):\n",
    "        print(\"regNo    :\", self.regNo)\n",
    "        print(\"owner    :\", self.owner)\n",
    "        print(\"make     :\", self.make)\n",
    "        print(\"model    :\", self.model)\n",
    "        print(\"seats    :\", self.seats)\n",
    "        print(\"people   :\", self.people)\n",
    "        print(\"distance :\", self.distance)\n",
    "        "
   ]
  },
  {
   "cell_type": "code",
   "execution_count": null,
   "metadata": {},
   "outputs": [],
   "source": []
  },
  {
   "cell_type": "code",
   "execution_count": 2,
   "metadata": {},
   "outputs": [
    {
     "name": "stdout",
     "output_type": "stream",
     "text": [
      "Called the __INIT__ function\n",
      "regNo    : KA03X9999\n",
      "owner    : Muniswara\n",
      "make     : Default\n",
      "model    : Default\n",
      "seats    : 4\n",
      "people   : []\n",
      "distance : 0\n"
     ]
    }
   ],
   "source": [
    "mCar = Car('KA03X9999','Muniswara')\n",
    "mCar.show()"
   ]
  },
  {
   "cell_type": "markdown",
   "metadata": {},
   "source": [
    "In Above Example:   \n",
    "   * mCar is object of Car class\n",
    "   * mCar will have all properties and methods of Car"
   ]
  },
  {
   "cell_type": "code",
   "execution_count": 3,
   "metadata": {},
   "outputs": [
    {
     "data": {
      "text/plain": [
       "('Muniswara', 0, [])"
      ]
     },
     "execution_count": 3,
     "metadata": {},
     "output_type": "execute_result"
    }
   ],
   "source": [
    "mCar.owner, mCar.distance, mCar.people"
   ]
  },
  {
   "cell_type": "code",
   "execution_count": 4,
   "metadata": {},
   "outputs": [
    {
     "name": "stdout",
     "output_type": "stream",
     "text": [
      "'Muniswara'' is checkedin\n",
      "'Rajitha'' is checkedin\n",
      "'Ramu'' is checkedin\n",
      "'Ravi'' is checkedin\n"
     ]
    }
   ],
   "source": [
    "mCar.picnic()\n",
    "mCar.checkin(\"Ramu\")\n",
    "mCar.checkin(\"Ravi\")"
   ]
  },
  {
   "cell_type": "code",
   "execution_count": 5,
   "metadata": {},
   "outputs": [],
   "source": [
    "mCar.drive(20)"
   ]
  },
  {
   "cell_type": "code",
   "execution_count": 6,
   "metadata": {},
   "outputs": [
    {
     "name": "stdout",
     "output_type": "stream",
     "text": [
      "regNo    : KA03X9999\n",
      "owner    : Muniswara\n",
      "make     : Default\n",
      "model    : Default\n",
      "seats    : 4\n",
      "people   : ['Muniswara', 'Rajitha', 'Ramu', 'Ravi']\n",
      "distance : 20\n"
     ]
    }
   ],
   "source": [
    "mCar.show()"
   ]
  },
  {
   "cell_type": "code",
   "execution_count": 7,
   "metadata": {},
   "outputs": [
    {
     "name": "stdout",
     "output_type": "stream",
     "text": [
      "No Vacency for Kumba, try later\n"
     ]
    }
   ],
   "source": [
    "mCar.checkin(\"Kumba\")\n"
   ]
  },
  {
   "cell_type": "code",
   "execution_count": 8,
   "metadata": {},
   "outputs": [
    {
     "name": "stdout",
     "output_type": "stream",
     "text": [
      "'Kumba'' is checkedin\n",
      "regNo    : KA03X9999\n",
      "owner    : Muniswara\n",
      "make     : Default\n",
      "model    : Default\n",
      "seats    : 4\n",
      "people   : ['Muniswara', 'Rajitha', 'Ramu', 'Kumba']\n",
      "distance : 20\n"
     ]
    }
   ],
   "source": [
    "mCar.checkout(\"Ravi\")\n",
    "mCar.checkin(\"Kumba\")\n",
    "mCar.show()"
   ]
  },
  {
   "cell_type": "code",
   "execution_count": 9,
   "metadata": {},
   "outputs": [],
   "source": [
    "class SUV(Car):\n",
    "    \"\"\"Class inheritance\"\"\"\n",
    "\n",
    "    def __init__(self, reg , owner, **kwargs ):\n",
    "       Car.__init__(self, reg , owner, **kwargs)\n",
    "       self.seats = 6 ; #includes new attribute\n",
    "\n"
   ]
  },
  {
   "cell_type": "code",
   "execution_count": 10,
   "metadata": {},
   "outputs": [
    {
     "name": "stdout",
     "output_type": "stream",
     "text": [
      "Called the __INIT__ function\n",
      "regNo    : KA01BA2111\n",
      "owner    : SaiReddy\n",
      "make     : Toyota\n",
      "model    : Fortuner\n",
      "seats    : 6\n",
      "people   : []\n",
      "distance : 0\n"
     ]
    }
   ],
   "source": [
    "aCar = SUV(\"KA01BA2111\", \"SaiReddy\", make=\"Toyota\", model=\"Fortuner\")\n",
    "aCar.show()"
   ]
  },
  {
   "cell_type": "code",
   "execution_count": 14,
   "metadata": {},
   "outputs": [
    {
     "name": "stdout",
     "output_type": "stream",
     "text": [
      "Muniswara already available.\n",
      "Rajitha already available.\n",
      "Ramu already available.\n",
      "Ravi already available.\n",
      "Kumba already available.\n"
     ]
    }
   ],
   "source": [
    "aCar.picnic()\n",
    "aCar.checkin(\"Ramu\")\n",
    "aCar.checkin(\"Ravi\")\n",
    "aCar.checkin(\"Kumba\")"
   ]
  },
  {
   "cell_type": "code",
   "execution_count": 15,
   "metadata": {},
   "outputs": [
    {
     "name": "stdout",
     "output_type": "stream",
     "text": [
      "regNo    : KA01BA2111\n",
      "owner    : SaiReddy\n",
      "make     : Toyota\n",
      "model    : Fortuner\n",
      "seats    : 6\n",
      "people   : ['Muniswara', 'Rajitha', 'Ramu', 'Ravi', 'Kumba', 'SaiReddy']\n",
      "distance : 0\n"
     ]
    }
   ],
   "source": [
    "aCar.show()"
   ]
  },
  {
   "cell_type": "code",
   "execution_count": 12,
   "metadata": {},
   "outputs": [
    {
     "name": "stdout",
     "output_type": "stream",
     "text": [
      "'SaiReddy'' is checkedin\n"
     ]
    }
   ],
   "source": [
    "aCar.checkin(\"SaiReddy\")"
   ]
  },
  {
   "cell_type": "code",
   "execution_count": 13,
   "metadata": {},
   "outputs": [
    {
     "name": "stdout",
     "output_type": "stream",
     "text": [
      "regNo    : KA01BA2111\n",
      "owner    : SaiReddy\n",
      "make     : Toyota\n",
      "model    : Fortuner\n",
      "seats    : 6\n",
      "people   : ['Muniswara', 'Rajitha', 'Ramu', 'Ravi', 'Kumba', 'SaiReddy']\n",
      "distance : 0\n"
     ]
    }
   ],
   "source": [
    "aCar.show()"
   ]
  },
  {
   "cell_type": "code",
   "execution_count": null,
   "metadata": {},
   "outputs": [],
   "source": []
  }
 ],
 "metadata": {
  "kernelspec": {
   "display_name": "Python 3",
   "language": "python",
   "name": "python3"
  },
  "language_info": {
   "codemirror_mode": {
    "name": "ipython",
    "version": 3
   },
   "file_extension": ".py",
   "mimetype": "text/x-python",
   "name": "python",
   "nbconvert_exporter": "python",
   "pygments_lexer": "ipython3",
   "version": "3.6.5"
  }
 },
 "nbformat": 4,
 "nbformat_minor": 2
}
