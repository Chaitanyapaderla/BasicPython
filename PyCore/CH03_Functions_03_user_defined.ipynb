{
 "cells": [
  {
   "cell_type": "markdown",
   "metadata": {},
   "source": [
    "# User Defined methods\n",
    "\n",
    "Create methods\n",
    "   * positional/mandatory arguments\n",
    "       * In function call, all positional arguments are manadatory, and  follow order\n",
    "       \n",
    "   * KeyWord/Defaults arguments\n",
    "       * define the default value\n",
    "       \n",
    "   * \n",
    "       \n",
    "   * Variable arguments\n",
    "       * Value list : \n",
    "           * In function call, all  arguments are manadatory, and  follow order\n",
    "   * Madatory: Key Word arguments\n",
    "   * Anonimus function\n",
    "     "
   ]
  },
  {
   "cell_type": "code",
   "execution_count": 1,
   "metadata": {},
   "outputs": [],
   "source": [
    "def mtd_name(arg1, arg2, *args, **kwargs):\n",
    "    # Body comes here\n",
    "    i = 0\n",
    "    return i"
   ]
  },
  {
   "cell_type": "markdown",
   "metadata": {},
   "source": [
    "## Positional/manadatory arguments"
   ]
  },
  {
   "cell_type": "code",
   "execution_count": 2,
   "metadata": {},
   "outputs": [],
   "source": [
    "\n",
    "def demo_args_position(arg1, arg2):\n",
    "    print(\"arg1   = \", arg1   )\n",
    "    print(\"arg2   = \", arg2   )\n"
   ]
  },
  {
   "cell_type": "code",
   "execution_count": 3,
   "metadata": {},
   "outputs": [
    {
     "name": "stdout",
     "output_type": "stream",
     "text": [
      "arg1   =  1\n",
      "arg2   =  2\n"
     ]
    }
   ],
   "source": [
    "demo_args_position(1, 2)"
   ]
  },
  {
   "cell_type": "code",
   "execution_count": 5,
   "metadata": {},
   "outputs": [
    {
     "name": "stdout",
     "output_type": "stream",
     "text": [
      "arg1   =  20\n",
      "arg2   =  12\n"
     ]
    }
   ],
   "source": [
    "demo_args_position(20, 12)"
   ]
  },
  {
   "cell_type": "code",
   "execution_count": 4,
   "metadata": {},
   "outputs": [
    {
     "name": "stdout",
     "output_type": "stream",
     "text": [
      "arg1   =  2\n",
      "arg2   =  1\n"
     ]
    }
   ],
   "source": [
    "demo_args_position(2, 1)"
   ]
  },
  {
   "cell_type": "code",
   "execution_count": 8,
   "metadata": {},
   "outputs": [],
   "source": [
    "def demo_variable_args(*args):\n",
    "    print(\"arg[0]   = \", args[0]   )\n",
    "    print(\"arg[1]   = \", args[1]   )\n",
    "    print(\"args     = \", args      )\n",
    "    print( type(args))\n"
   ]
  },
  {
   "cell_type": "code",
   "execution_count": 9,
   "metadata": {},
   "outputs": [
    {
     "name": "stdout",
     "output_type": "stream",
     "text": [
      "arg[0]   =  1\n",
      "arg[1]   =  2\n",
      "args     =  (1, 2)\n",
      "<class 'tuple'>\n"
     ]
    }
   ],
   "source": [
    "demo_variable_args(1, 2)"
   ]
  },
  {
   "cell_type": "code",
   "execution_count": 10,
   "metadata": {},
   "outputs": [
    {
     "name": "stdout",
     "output_type": "stream",
     "text": [
      "arg[0]   =  1\n",
      "arg[1]   =  2\n",
      "args     =  (1, 2, 3, 4, 5, 6)\n",
      "<class 'tuple'>\n"
     ]
    }
   ],
   "source": [
    "demo_variable_args(1, 2, 3, 4, 5, 6)"
   ]
  },
  {
   "cell_type": "code",
   "execution_count": 14,
   "metadata": {},
   "outputs": [],
   "source": [
    "def demo_mix_position_and_variable_args(arg1, arg2, *args):\n",
    "    print(\"arg1   = \", arg1   )\n",
    "    print(\"arg2   = \", arg2   )\n",
    "    \n",
    "    if len(args) >= 1:  print(\"arg[0]   = \", args[0]   )\n",
    "    if len(args) >= 2:  print(\"arg[1]   = \", args[1]   )\n",
    "        \n",
    "    print(\"args     = \", args      )\n",
    "    print( type(args))"
   ]
  },
  {
   "cell_type": "code",
   "execution_count": 15,
   "metadata": {},
   "outputs": [
    {
     "name": "stdout",
     "output_type": "stream",
     "text": [
      "arg1   =  1\n",
      "arg2   =  2\n",
      "arg[0]   =  3\n",
      "arg[1]   =  4\n",
      "args     =  (3, 4, 5)\n",
      "<class 'tuple'>\n"
     ]
    }
   ],
   "source": [
    "# def demo_mix_position_and_variable_args(arg1, arg2, *args):\n",
    "    \n",
    "demo_mix_position_and_variable_args(1, 2, 3, 4, 5)"
   ]
  },
  {
   "cell_type": "code",
   "execution_count": 16,
   "metadata": {},
   "outputs": [
    {
     "name": "stdout",
     "output_type": "stream",
     "text": [
      "arg1   =  1\n",
      "arg2   =  2\n",
      "args     =  ()\n",
      "<class 'tuple'>\n"
     ]
    }
   ],
   "source": [
    "demo_mix_position_and_variable_args(1, 2)"
   ]
  },
  {
   "cell_type": "code",
   "execution_count": 18,
   "metadata": {},
   "outputs": [
    {
     "name": "stdout",
     "output_type": "stream",
     "text": [
      "arg1   =  1\n",
      "arg2   =  2\n",
      "arg[0]   =  3\n",
      "arg[1]   =  4\n",
      "args     =  (3, 4)\n",
      "<class 'tuple'>\n"
     ]
    }
   ],
   "source": [
    "demo_mix_position_and_variable_args(1, 2, 3, 4)"
   ]
  },
  {
   "cell_type": "markdown",
   "metadata": {},
   "source": [
    "## Position and KeyWord/Defaults arguments"
   ]
  },
  {
   "cell_type": "code",
   "execution_count": 50,
   "metadata": {},
   "outputs": [],
   "source": [
    "def demo_kwargs_dflt(e_arg1='e_dfltval1', e_arg2='e_dfltval2'):\n",
    "    print(\"e_arg1 = \", e_arg1 )\n",
    "    print(\"e_arg2 = \", e_arg2 )\n",
    "    "
   ]
  },
  {
   "cell_type": "code",
   "execution_count": 22,
   "metadata": {},
   "outputs": [
    {
     "name": "stdout",
     "output_type": "stream",
     "text": [
      "e_arg1 =  e_dfltval1\n",
      "e_arg2 =  e_dfltval2\n"
     ]
    }
   ],
   "source": [
    "demo_kwargs_dflt()"
   ]
  },
  {
   "cell_type": "code",
   "execution_count": 23,
   "metadata": {},
   "outputs": [
    {
     "name": "stdout",
     "output_type": "stream",
     "text": [
      "e_arg1 =  val1\n",
      "e_arg2 =  e_dfltval2\n"
     ]
    }
   ],
   "source": [
    "demo_kwargs_dflt(\"val1\")"
   ]
  },
  {
   "cell_type": "code",
   "execution_count": 24,
   "metadata": {},
   "outputs": [
    {
     "name": "stdout",
     "output_type": "stream",
     "text": [
      "e_arg1 =  val2\n",
      "e_arg2 =  e_dfltval2\n"
     ]
    }
   ],
   "source": [
    "# if name is not given aligns by position\n",
    "demo_kwargs_dflt(\"val2\")"
   ]
  },
  {
   "cell_type": "code",
   "execution_count": 25,
   "metadata": {},
   "outputs": [
    {
     "name": "stdout",
     "output_type": "stream",
     "text": [
      "e_arg1 =  e_dfltval1\n",
      "e_arg2 =  val2\n"
     ]
    }
   ],
   "source": [
    "demo_kwargs_dflt(e_arg2=\"val2\")"
   ]
  },
  {
   "cell_type": "code",
   "execution_count": 26,
   "metadata": {},
   "outputs": [
    {
     "name": "stdout",
     "output_type": "stream",
     "text": [
      "e_arg1 =  val1\n",
      "e_arg2 =  e_dfltval2\n"
     ]
    }
   ],
   "source": [
    "demo_kwargs_dflt(e_arg1=\"val1\")"
   ]
  },
  {
   "cell_type": "code",
   "execution_count": 27,
   "metadata": {},
   "outputs": [
    {
     "name": "stdout",
     "output_type": "stream",
     "text": [
      "e_arg1 =  val1\n",
      "e_arg2 =  val2\n"
     ]
    }
   ],
   "source": [
    "demo_kwargs_dflt(\"val1\", \"val2\")"
   ]
  },
  {
   "cell_type": "code",
   "execution_count": 30,
   "metadata": {},
   "outputs": [],
   "source": [
    "# TypeError: demo_kwargs_dflt() takes from 0 to 2 positional arguments but 3 were given\n",
    "# demo_kwargs_dflt(\"val1\", \"val2\", \"junk\")"
   ]
  },
  {
   "cell_type": "code",
   "execution_count": 35,
   "metadata": {},
   "outputs": [],
   "source": [
    "def demo_kwargs_varArgs(*args, e_arg1='e_dfltval1', e_arg2='e_dfltval2'):\n",
    "    print(\"e_arg1 = \", e_arg1 )\n",
    "    print(\"e_arg2 = \", e_arg2 )\n",
    "    print(\"args = \", args )\n"
   ]
  },
  {
   "cell_type": "code",
   "execution_count": 44,
   "metadata": {},
   "outputs": [],
   "source": [
    "def demo_kwargs_varArgs( e_arg1='e_dfltval1', e_arg2='e_dfltval2', *args):\n",
    "    print(\"e_arg1 = \", e_arg1 )\n",
    "    print(\"e_arg2 = \", e_arg2 )\n",
    "    print(\"args = \", args )"
   ]
  },
  {
   "cell_type": "code",
   "execution_count": 45,
   "metadata": {},
   "outputs": [
    {
     "name": "stdout",
     "output_type": "stream",
     "text": [
      "e_arg1 =  val1\n",
      "e_arg2 =  e_dfltval2\n",
      "args =  ()\n"
     ]
    }
   ],
   "source": [
    "demo_kwargs_varArgs(e_arg1=\"val1\")"
   ]
  },
  {
   "cell_type": "code",
   "execution_count": 49,
   "metadata": {},
   "outputs": [
    {
     "ename": "TypeError",
     "evalue": "demo_kwargs_varArgs() got multiple values for argument 'e_arg1'",
     "output_type": "error",
     "traceback": [
      "\u001b[0;31m---------------------------------------------------------------------------\u001b[0m",
      "\u001b[0;31mTypeError\u001b[0m                                 Traceback (most recent call last)",
      "\u001b[0;32m<ipython-input-49-7367d51ed2c9>\u001b[0m in \u001b[0;36m<module>\u001b[0;34m()\u001b[0m\n\u001b[0;32m----> 1\u001b[0;31m \u001b[0mdemo_kwargs_varArgs\u001b[0m\u001b[0;34m(\u001b[0m\u001b[0;34m\"val1\"\u001b[0m\u001b[0;34m,\u001b[0m \u001b[0;34m\"var2\"\u001b[0m\u001b[0;34m,\u001b[0m \u001b[0me_arg1\u001b[0m\u001b[0;34m=\u001b[0m\u001b[0;34m\"val1\"\u001b[0m\u001b[0;34m)\u001b[0m\u001b[0;34m\u001b[0m\u001b[0m\n\u001b[0m",
      "\u001b[0;31mTypeError\u001b[0m: demo_kwargs_varArgs() got multiple values for argument 'e_arg1'"
     ]
    }
   ],
   "source": [
    "# TypeError: demo_kwargs_varArgs() got multiple values for argument 'e_arg1'\n",
    "#    def demo_kwargs_varArgs( e_arg1='e_dfltval1', e_arg2='e_dfltval2', *args )\n",
    "# demo_kwargs_varArgs(\"val1\", \"var2\", e_arg1=\"val1\")"
   ]
  },
  {
   "cell_type": "code",
   "execution_count": 42,
   "metadata": {},
   "outputs": [],
   "source": [
    "def demo_args_dflt(arg1, e_arg1='e_dfltval1', e_arg2='e_dfltval2'):\n",
    "    print(\"arg1   = \", arg1   )\n",
    "    print(\"e_arg1 = \", e_arg1 )\n",
    "    print(\"e_arg2 = \", e_arg2 )\n",
    "    "
   ]
  },
  {
   "cell_type": "code",
   "execution_count": 20,
   "metadata": {},
   "outputs": [
    {
     "name": "stdout",
     "output_type": "stream",
     "text": [
      "arg1   =  usr_arg1\n",
      "e_arg1 =  e_dfltval1\n",
      "e_arg2 =  e_dfltval2\n"
     ]
    }
   ],
   "source": [
    "# KeyWord arguments\n",
    "demo_args_dflt(\"usr_arg1\")"
   ]
  },
  {
   "cell_type": "code",
   "execution_count": 6,
   "metadata": {},
   "outputs": [
    {
     "name": "stdout",
     "output_type": "stream",
     "text": [
      "arg1   =  usr_arg1\n",
      "e_arg1 =  e_dfltval1\n",
      "e_arg2 =  e_val2\n"
     ]
    }
   ],
   "source": [
    "demo_args_dflt(\"usr_arg1\", e_arg2=\"e_val2\")"
   ]
  },
  {
   "cell_type": "code",
   "execution_count": 7,
   "metadata": {},
   "outputs": [
    {
     "name": "stdout",
     "output_type": "stream",
     "text": [
      "arg1   =  usr_arg1\n",
      "e_arg1 =  e_val1\n",
      "e_arg2 =  e_val2\n"
     ]
    }
   ],
   "source": [
    "demo_args_dflt(\"usr_arg1\", e_arg2=\"e_val2\", e_arg1=\"e_val1\")"
   ]
  },
  {
   "cell_type": "code",
   "execution_count": 8,
   "metadata": {},
   "outputs": [
    {
     "name": "stdout",
     "output_type": "stream",
     "text": [
      "arg1   =  usr_arg1\n",
      "e_arg1 =  d_val1\n",
      "e_arg2 =  d_val2\n"
     ]
    }
   ],
   "source": [
    "d = { \"e_arg2\": \"d_val2\", \"e_arg1\": \"d_val1\" }\n",
    "demo_args_dflt(\"usr_arg1\", **d)"
   ]
  },
  {
   "cell_type": "markdown",
   "metadata": {},
   "source": [
    "## Variable positional, keyword arguments\n",
    "\n",
    "Usage: \n",
    "   * Both variable arguments and keyWord Arguments\n",
    "   * Mixed variable arguments and keyWord Arguments\n",
    "   \n",
    "Illegal usage:\n",
    "   * Positional/Variable arguments comes before Key Word arguments"
   ]
  },
  {
   "cell_type": "code",
   "execution_count": 2,
   "metadata": {},
   "outputs": [],
   "source": [
    "def demo_kwargs_only ( **kwargs ):\n",
    "    print(\"kwargs =\", kwargs )"
   ]
  },
  {
   "cell_type": "code",
   "execution_count": 6,
   "metadata": {},
   "outputs": [
    {
     "name": "stdout",
     "output_type": "stream",
     "text": [
      "kwargs = {'a': 1}\n",
      "kwargs = {'a': 1, 'b': 2}\n",
      "kwargs = {'b': 1, 'a': 2}\n"
     ]
    }
   ],
   "source": [
    "demo_kwargs_only(a=1)\n",
    "demo_kwargs_only(a=1, b=2)\n",
    "demo_kwargs_only(b=1, a=2)"
   ]
  },
  {
   "cell_type": "code",
   "execution_count": null,
   "metadata": {},
   "outputs": [],
   "source": []
  },
  {
   "cell_type": "code",
   "execution_count": 7,
   "metadata": {},
   "outputs": [],
   "source": [
    "# TypeError: demo_kwargs_only() takes 0 positional arguments but 1 was given\n",
    "# demo_kwargs_only(1)"
   ]
  },
  {
   "cell_type": "code",
   "execution_count": null,
   "metadata": {},
   "outputs": [],
   "source": []
  },
  {
   "cell_type": "code",
   "execution_count": 10,
   "metadata": {},
   "outputs": [],
   "source": [
    "def demo_kwargs_varOrder_n_kwargs  ( *args, **kwargs ):\n",
    "    print(\"args   =\", args   )\n",
    "    print(\"kwargs =\", kwargs )"
   ]
  },
  {
   "cell_type": "code",
   "execution_count": 11,
   "metadata": {},
   "outputs": [
    {
     "name": "stdout",
     "output_type": "stream",
     "text": [
      "args   = (1,)\n",
      "kwargs = {}\n"
     ]
    }
   ],
   "source": [
    "demo_kwargs_varOrder_n_kwargs(1)"
   ]
  },
  {
   "cell_type": "code",
   "execution_count": 12,
   "metadata": {},
   "outputs": [
    {
     "name": "stdout",
     "output_type": "stream",
     "text": [
      "args   = (1,)\n",
      "kwargs = {'a': 1, 'b': 2}\n"
     ]
    }
   ],
   "source": [
    "demo_kwargs_varOrder_n_kwargs(1, a=1, b=2)"
   ]
  },
  {
   "cell_type": "code",
   "execution_count": 21,
   "metadata": {},
   "outputs": [
    {
     "name": "stdout",
     "output_type": "stream",
     "text": [
      "args   = ()\n",
      "kwargs = {}\n"
     ]
    }
   ],
   "source": [
    "demo_kwargs_varOrder_n_kwargs()"
   ]
  },
  {
   "cell_type": "code",
   "execution_count": 14,
   "metadata": {},
   "outputs": [],
   "source": [
    "# SyntaxError: positional argument follows keyword argument\n",
    "# demo_kwargs_varOrder_n_kwargs(c=2, 1, a=1, b=2)"
   ]
  },
  {
   "cell_type": "code",
   "execution_count": 16,
   "metadata": {},
   "outputs": [],
   "source": [
    "def demo_kwargs_Pos_varOrder_n_kwargs  ( arg1, *args, **kwargs ):\n",
    "    print(\"arg1   =\", arg1   )\n",
    "    print(\"args   =\", args   )\n",
    "    print(\"kwargs =\", kwargs )"
   ]
  },
  {
   "cell_type": "code",
   "execution_count": 17,
   "metadata": {},
   "outputs": [
    {
     "name": "stdout",
     "output_type": "stream",
     "text": [
      "arg1   = 1\n",
      "args   = ()\n",
      "kwargs = {'a': 1, 'b': 2}\n"
     ]
    }
   ],
   "source": [
    "demo_kwargs_Pos_varOrder_n_kwargs(1, a=1, b=2)"
   ]
  },
  {
   "cell_type": "code",
   "execution_count": 18,
   "metadata": {},
   "outputs": [
    {
     "name": "stdout",
     "output_type": "stream",
     "text": [
      "arg1   = 1\n",
      "args   = (2, 3)\n",
      "kwargs = {}\n"
     ]
    }
   ],
   "source": [
    "demo_kwargs_Pos_varOrder_n_kwargs(1, 2, 3)"
   ]
  },
  {
   "cell_type": "code",
   "execution_count": 20,
   "metadata": {},
   "outputs": [
    {
     "name": "stdout",
     "output_type": "stream",
     "text": [
      "arg1   = 1\n",
      "args   = ()\n",
      "kwargs = {}\n"
     ]
    }
   ],
   "source": [
    "demo_kwargs_Pos_varOrder_n_kwargs(1)"
   ]
  },
  {
   "cell_type": "code",
   "execution_count": 9,
   "metadata": {},
   "outputs": [],
   "source": [
    "def demo_args_variable_dflt(arg1, *args, **kwargs):\n",
    "    print(\"arg1   =\", arg1   )\n",
    "    print(\"args   =\", args   )\n",
    "    print(\"kwargs =\", kwargs )"
   ]
  },
  {
   "cell_type": "code",
   "execution_count": 10,
   "metadata": {},
   "outputs": [
    {
     "name": "stdout",
     "output_type": "stream",
     "text": [
      "arg1   = arg1_val1\n",
      "args   = ('v_val1', 'v_val2')\n",
      "kwargs = {'d_arg1': 'd_val1', 'd_arg2': 'd_val1'}\n"
     ]
    }
   ],
   "source": [
    "demo_args_variable_dflt(\"arg1_val1\", \"v_val1\", \"v_val2\", d_arg1=\"d_val1\", d_arg2=\"d_val1\")"
   ]
  },
  {
   "cell_type": "code",
   "execution_count": 11,
   "metadata": {},
   "outputs": [
    {
     "name": "stdout",
     "output_type": "stream",
     "text": [
      "arg1   = arg1_val1\n",
      "args   = ()\n",
      "kwargs = {'d_arg1': 'd_val1', 'd_arg2': 'd_val1'}\n"
     ]
    }
   ],
   "source": [
    "demo_args_variable_dflt(\"arg1_val1\", d_arg1=\"d_val1\", d_arg2=\"d_val1\")"
   ]
  },
  {
   "cell_type": "code",
   "execution_count": 12,
   "metadata": {
    "scrolled": true
   },
   "outputs": [
    {
     "name": "stdout",
     "output_type": "stream",
     "text": [
      "arg1   = arg1_val1\n",
      "args   = ('v_val1', 'v_val2')\n",
      "kwargs = {}\n"
     ]
    }
   ],
   "source": [
    "demo_args_variable_dflt(\"arg1_val1\", \"v_val1\", \"v_val2\")"
   ]
  },
  {
   "cell_type": "code",
   "execution_count": null,
   "metadata": {},
   "outputs": [],
   "source": [
    "# L5: Hypbrid of all "
   ]
  },
  {
   "cell_type": "code",
   "execution_count": 13,
   "metadata": {},
   "outputs": [
    {
     "name": "stdout",
     "output_type": "stream",
     "text": [
      "arg1   = arg1_val1\n",
      "args   = ('v_val1', 'v_val2')\n",
      "kwargs = {'d_arg1': 'd_val1', 'd_arg2': 'd_val1'}\n"
     ]
    }
   ],
   "source": [
    "l_args = ('v_val1', 'v_val2')\n",
    "d_kwargs = {'d_arg1': 'd_val1', 'd_arg2': 'd_val1'}\n",
    "\n",
    "demo_args_variable_dflt(\"arg1_val1\", *l_args, **d_kwargs)"
   ]
  },
  {
   "cell_type": "code",
   "execution_count": 14,
   "metadata": {},
   "outputs": [],
   "source": [
    "def demo_args_mixed(arg1, *args, e_arg2=\"e_dflt_val2\", e_arg1=\"e_dflt_val1\", **kwargs):\n",
    "    print(\"arg1   =\", arg1   )\n",
    "    print(\"e_arg1 =\", e_arg1 )\n",
    "    print(\"e_arg2 =\", e_arg2 )\n",
    "    print(\"args   =\", args   )\n",
    "    print(\"kwargs =\", kwargs )"
   ]
  },
  {
   "cell_type": "code",
   "execution_count": 15,
   "metadata": {},
   "outputs": [
    {
     "name": "stdout",
     "output_type": "stream",
     "text": [
      "arg1   = usr_arg1\n",
      "e_arg1 = e_dflt_val1\n",
      "e_arg2 = e_dflt_val2\n",
      "args   = ()\n",
      "kwargs = {}\n"
     ]
    }
   ],
   "source": [
    "demo_args_mixed(\"usr_arg1\")"
   ]
  },
  {
   "cell_type": "code",
   "execution_count": 16,
   "metadata": {},
   "outputs": [],
   "source": [
    "l_args = ('v_val1', 'v_val2')\n",
    "d_kwargs = {\"e_arg1\":\"e_val1\", 'd_arg1': 'd_val1', 'd_arg2': 'd_val1'}"
   ]
  },
  {
   "cell_type": "code",
   "execution_count": 17,
   "metadata": {},
   "outputs": [
    {
     "name": "stdout",
     "output_type": "stream",
     "text": [
      "arg1   = usr_arg1\n",
      "e_arg1 = e_val1\n",
      "e_arg2 = e_dflt_val2\n",
      "args   = ('v_val1', 'v_val2')\n",
      "kwargs = {'d_arg1': 'd_val1', 'd_arg2': 'd_val1'}\n"
     ]
    }
   ],
   "source": [
    "demo_args_mixed(\"usr_arg1\", *l_args, **d_kwargs)"
   ]
  },
  {
   "cell_type": "code",
   "execution_count": 18,
   "metadata": {
    "scrolled": true
   },
   "outputs": [
    {
     "name": "stdout",
     "output_type": "stream",
     "text": [
      "arg1   = usr_arg1\n",
      "e_arg1 = e_val1\n",
      "e_arg2 = e_val2\n",
      "args   = ('v_val1', 'v_val2')\n",
      "kwargs = {'d_arg1': 'd_val1', 'd_arg2': 'd_val1'}\n"
     ]
    }
   ],
   "source": [
    "demo_args_mixed(\"usr_arg1\", *l_args, e_arg2=\"e_val2\", **d_kwargs)"
   ]
  },
  {
   "cell_type": "markdown",
   "metadata": {},
   "source": [
    "### Illegal Usage"
   ]
  },
  {
   "cell_type": "code",
   "execution_count": 19,
   "metadata": {
    "scrolled": true
   },
   "outputs": [
    {
     "ename": "TypeError",
     "evalue": "demo_args_position() missing 1 required positional argument: 'arg2'",
     "output_type": "error",
     "traceback": [
      "\u001b[0;31m---------------------------------------------------------------------------\u001b[0m",
      "\u001b[0;31mTypeError\u001b[0m                                 Traceback (most recent call last)",
      "\u001b[0;32m<ipython-input-19-4dbd01e9db17>\u001b[0m in \u001b[0;36m<module>\u001b[0;34m()\u001b[0m\n\u001b[1;32m      1\u001b[0m \u001b[0;31m# Gets an exception, if one or more arguments missing\u001b[0m\u001b[0;34m\u001b[0m\u001b[0;34m\u001b[0m\u001b[0m\n\u001b[0;32m----> 2\u001b[0;31m \u001b[0mdemo_args_position\u001b[0m\u001b[0;34m(\u001b[0m\u001b[0;36m1\u001b[0m\u001b[0;34m)\u001b[0m\u001b[0;34m\u001b[0m\u001b[0m\n\u001b[0m",
      "\u001b[0;31mTypeError\u001b[0m: demo_args_position() missing 1 required positional argument: 'arg2'"
     ]
    }
   ],
   "source": [
    "# Gets an exception, if one or more arguments missing\n",
    "demo_args_position(1)"
   ]
  },
  {
   "cell_type": "code",
   "execution_count": 20,
   "metadata": {
    "scrolled": true
   },
   "outputs": [
    {
     "ename": "TypeError",
     "evalue": "demo_args_dflt() got an unexpected keyword argument 'e_junk'",
     "output_type": "error",
     "traceback": [
      "\u001b[0;31m---------------------------------------------------------------------------\u001b[0m",
      "\u001b[0;31mTypeError\u001b[0m                                 Traceback (most recent call last)",
      "\u001b[0;32m<ipython-input-20-809854b3c630>\u001b[0m in \u001b[0;36m<module>\u001b[0;34m()\u001b[0m\n\u001b[0;32m----> 1\u001b[0;31m \u001b[0mdemo_args_dflt\u001b[0m\u001b[0;34m(\u001b[0m\u001b[0;34m\"usr_arg1\"\u001b[0m\u001b[0;34m,\u001b[0m \u001b[0me_junk\u001b[0m\u001b[0;34m=\u001b[0m\u001b[0;34m\"\"\u001b[0m\u001b[0;34m)\u001b[0m\u001b[0;34m\u001b[0m\u001b[0m\n\u001b[0m",
      "\u001b[0;31mTypeError\u001b[0m: demo_args_dflt() got an unexpected keyword argument 'e_junk'"
     ]
    }
   ],
   "source": [
    "demo_args_dflt(\"usr_arg1\", e_junk=\"\")"
   ]
  },
  {
   "cell_type": "code",
   "execution_count": 21,
   "metadata": {
    "scrolled": true
   },
   "outputs": [
    {
     "ename": "TypeError",
     "evalue": "demo_args_mixed() got multiple values for keyword argument 'e_arg1'",
     "output_type": "error",
     "traceback": [
      "\u001b[0;31m---------------------------------------------------------------------------\u001b[0m",
      "\u001b[0;31mTypeError\u001b[0m                                 Traceback (most recent call last)",
      "\u001b[0;32m<ipython-input-21-a9c8761ff5f5>\u001b[0m in \u001b[0;36m<module>\u001b[0;34m()\u001b[0m\n\u001b[0;32m----> 1\u001b[0;31m \u001b[0mdemo_args_mixed\u001b[0m\u001b[0;34m(\u001b[0m\u001b[0;34m\"usr_arg1\"\u001b[0m\u001b[0;34m,\u001b[0m \u001b[0;34m*\u001b[0m\u001b[0ml_args\u001b[0m\u001b[0;34m,\u001b[0m \u001b[0me_arg1\u001b[0m\u001b[0;34m=\u001b[0m\u001b[0;34m\"e_val1\"\u001b[0m\u001b[0;34m,\u001b[0m \u001b[0;34m**\u001b[0m\u001b[0md_kwargs\u001b[0m\u001b[0;34m)\u001b[0m\u001b[0;34m\u001b[0m\u001b[0m\n\u001b[0m",
      "\u001b[0;31mTypeError\u001b[0m: demo_args_mixed() got multiple values for keyword argument 'e_arg1'"
     ]
    }
   ],
   "source": [
    "demo_args_mixed(\"usr_arg1\", *l_args, e_arg1=\"e_val1\", **d_kwargs)"
   ]
  },
  {
   "cell_type": "raw",
   "metadata": {},
   "source": [
    "lambda [arg1[, arg2, ... argN]]: expression"
   ]
  },
  {
   "cell_type": "code",
   "execution_count": null,
   "metadata": {},
   "outputs": [],
   "source": [
    "### lambda"
   ]
  },
  {
   "cell_type": "code",
   "execution_count": 28,
   "metadata": {},
   "outputs": [],
   "source": [
    "mySum =  lambda a, b: a + b"
   ]
  },
  {
   "cell_type": "code",
   "execution_count": 29,
   "metadata": {},
   "outputs": [
    {
     "data": {
      "text/plain": [
       "3"
      ]
     },
     "execution_count": 29,
     "metadata": {},
     "output_type": "execute_result"
    }
   ],
   "source": [
    "mySum(1, 2)"
   ]
  },
  {
   "cell_type": "code",
   "execution_count": null,
   "metadata": {},
   "outputs": [],
   "source": []
  }
 ],
 "metadata": {
  "kernelspec": {
   "display_name": "Python 3",
   "language": "python",
   "name": "python3"
  },
  "language_info": {
   "codemirror_mode": {
    "name": "ipython",
    "version": 3
   },
   "file_extension": ".py",
   "mimetype": "text/x-python",
   "name": "python",
   "nbconvert_exporter": "python",
   "pygments_lexer": "ipython3",
   "version": "3.6.5"
  }
 },
 "nbformat": 4,
 "nbformat_minor": 2
}
