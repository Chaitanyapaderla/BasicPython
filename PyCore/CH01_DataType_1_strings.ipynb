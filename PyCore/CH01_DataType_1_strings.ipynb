{
 "cells": [
  {
   "cell_type": "markdown",
   "metadata": {},
   "source": [
    "# CH01 : Data Type Strings"
   ]
  },
  {
   "cell_type": "markdown",
   "metadata": {},
   "source": [
    "## Creating a  string"
   ]
  },
  {
   "cell_type": "code",
   "execution_count": 1,
   "metadata": {},
   "outputs": [
    {
     "name": "stdout",
     "output_type": "stream",
     "text": [
      "abcd\n"
     ]
    }
   ],
   "source": [
    "s = \"abcd\"\n",
    "print(s)"
   ]
  },
  {
   "cell_type": "markdown",
   "metadata": {},
   "source": [
    "Triple quote and double quotes are doc strings.\n",
    "Can be used as multiline strings."
   ]
  },
  {
   "cell_type": "code",
   "execution_count": 2,
   "metadata": {},
   "outputs": [
    {
     "name": "stdout",
     "output_type": "stream",
     "text": [
      "Multiline\n",
      "    strings with triple-double\n",
      "    \"surround double quote\"\n",
      "    'surround triple quote'\n",
      "\n"
     ]
    }
   ],
   "source": [
    "s_dm = \"\"\"Multiline\n",
    "    strings with triple-double\n",
    "    \"surround double quote\"\n",
    "    'surround triple quote'\n",
    "\"\"\"\n",
    "print(s_dm)"
   ]
  },
  {
   "cell_type": "code",
   "execution_count": 3,
   "metadata": {},
   "outputs": [
    {
     "name": "stdout",
     "output_type": "stream",
     "text": [
      "srichaitanya techno school,\n",
      "\"srichaitanya college\",\n",
      "'narayana'\n"
     ]
    }
   ],
   "source": [
    "sai = \"\"\"srichaitanya techno school,\n",
    "\"srichaitanya college\",\n",
    "'narayana'\"\"\"\n",
    "print(sai)"
   ]
  },
  {
   "cell_type": "code",
   "execution_count": 4,
   "metadata": {},
   "outputs": [
    {
     "name": "stdout",
     "output_type": "stream",
     "text": [
      "Multiline\n",
      "    strings with triple-single quote\n",
      "    \"surround double quote\"\n",
      "    'surround triple quote'\n",
      "\n"
     ]
    }
   ],
   "source": [
    "s_sm = '''Multiline\n",
    "    strings with triple-single quote\n",
    "    \"surround double quote\"\n",
    "    'surround triple quote'\n",
    "'''\n",
    "print(s_sm)"
   ]
  },
  {
   "cell_type": "code",
   "execution_count": 5,
   "metadata": {},
   "outputs": [],
   "source": [
    "s_dq = \"double Quote string\"\n",
    "s_sq = 'double Quote string'\n",
    "\n",
    "\n",
    "s_tdq = \"\"\"double Quote string\"\"\"\n",
    "s_tsq = '''double Quote string'''\n"
   ]
  },
  {
   "cell_type": "code",
   "execution_count": 6,
   "metadata": {},
   "outputs": [
    {
     "data": {
      "text/plain": [
       "'double Quote string'"
      ]
     },
     "execution_count": 6,
     "metadata": {},
     "output_type": "execute_result"
    }
   ],
   "source": [
    "s_tdq"
   ]
  },
  {
   "cell_type": "code",
   "execution_count": 7,
   "metadata": {},
   "outputs": [
    {
     "data": {
      "text/plain": [
       "'double Quote string'"
      ]
     },
     "execution_count": 7,
     "metadata": {},
     "output_type": "execute_result"
    }
   ],
   "source": [
    "s_dq"
   ]
  },
  {
   "cell_type": "markdown",
   "metadata": {},
   "source": [
    "## String methods"
   ]
  },
  {
   "cell_type": "code",
   "execution_count": null,
   "metadata": {},
   "outputs": [],
   "source": []
  },
  {
   "cell_type": "code",
   "execution_count": 8,
   "metadata": {},
   "outputs": [
    {
     "data": {
      "text/html": [
       "\n",
       "<a id=\"py3_str_frmt_methods\"><\\a>"
      ],
      "text/plain": [
       "<IPython.core.display.HTML object>"
      ]
     },
     "metadata": {},
     "output_type": "display_data"
    }
   ],
   "source": [
    "%%html\n",
    "\n",
    "<a id=\"py3_str_frmt_methods\"><\\a>"
   ]
  },
  {
   "cell_type": "markdown",
   "metadata": {},
   "source": [
    "### String formating"
   ]
  },
  {
   "cell_type": "code",
   "execution_count": 9,
   "metadata": {},
   "outputs": [],
   "source": [
    "s = \"abcdefghi\""
   ]
  },
  {
   "cell_type": "code",
   "execution_count": 10,
   "metadata": {},
   "outputs": [
    {
     "name": "stdout",
     "output_type": "stream",
     "text": [
      "s                =>  abcdefghi\n",
      "s.center(20)     =>       abcdefghi      \n",
      "s.center(20,'=') =>  =====abcdefghi======\n",
      "s.ljust(20)      =>  abcdefghi           \n",
      "s.ljust(20,'=')  =>  abcdefghi===========\n",
      "s.rjust(20)      =>             abcdefghi\n",
      "s.rjust(20,'=')  =>  ===========abcdefghi\n"
     ]
    }
   ],
   "source": [
    "print(\"s                => \" , s)\n",
    "print(\"s.center(20)     => \" , s.center(20))\n",
    "print(\"s.center(20,'=') => \" , s.center(20,'='))\n",
    "print(\"s.ljust(20)      => \" , s.ljust(20))\n",
    "print(\"s.ljust(20,'=')  => \" , s.ljust(20,'='))\n",
    "print(\"s.rjust(20)      => \" , s.rjust(20))\n",
    "print(\"s.rjust(20,'=')  => \" , s.rjust(20,'='))"
   ]
  },
  {
   "cell_type": "code",
   "execution_count": 20,
   "metadata": {},
   "outputs": [
    {
     "name": "stdout",
     "output_type": "stream",
     "text": [
      "s                =>  abcdefghi\n",
      "s.center(19)     =>       abcdefghi     \n",
      "s.center(19,'=') =>  =====abcdefghi=====\n",
      "s.ljust(19)      =>  abcdefghi          \n",
      "s.ljust(19,'=')  =>  abcdefghi==========\n",
      "s.rjust(19)      =>            abcdefghi\n",
      "s.rjust(19,'=')  =>  ==========abcdefghi\n"
     ]
    }
   ],
   "source": [
    "print(\"s                => \" , s)\n",
    "print(\"s.center(19)     => \" , s.center(19))\n",
    "print(\"s.center(19,'=') => \" , s.center(19,'='))\n",
    "print(\"s.ljust(19)      => \" , s.ljust(19))\n",
    "print(\"s.ljust(19,'=')  => \" , s.ljust(19,'='))\n",
    "print(\"s.rjust(19)      => \" , s.rjust(19))\n",
    "print(\"s.rjust(19,'=')  => \" , s.rjust(19,'='))"
   ]
  },
  {
   "cell_type": "code",
   "execution_count": 12,
   "metadata": {},
   "outputs": [
    {
     "name": "stdout",
     "output_type": "stream",
     "text": [
      "s.rjust(20,'-')  =>  -----------abcdefghi\n"
     ]
    }
   ],
   "source": [
    "print(\"s.rjust(20,'-')  => \" , s.rjust(20,'-'))\n"
   ]
  },
  {
   "cell_type": "markdown",
   "metadata": {},
   "source": [
    "### Experiments"
   ]
  },
  {
   "cell_type": "code",
   "execution_count": 13,
   "metadata": {},
   "outputs": [
    {
     "name": "stdout",
     "output_type": "stream",
     "text": [
      "diwakar\n"
     ]
    }
   ],
   "source": [
    "y = \"diwakar\"\n",
    "print (y)"
   ]
  },
  {
   "cell_type": "code",
   "execution_count": null,
   "metadata": {},
   "outputs": [],
   "source": []
  }
 ],
 "metadata": {
  "kernelspec": {
   "display_name": "Python 3",
   "language": "python",
   "name": "python3"
  },
  "language_info": {
   "codemirror_mode": {
    "name": "ipython",
    "version": 3
   },
   "file_extension": ".py",
   "mimetype": "text/x-python",
   "name": "python",
   "nbconvert_exporter": "python",
   "pygments_lexer": "ipython3",
   "version": "3.6.5"
  }
 },
 "nbformat": 4,
 "nbformat_minor": 2
}
