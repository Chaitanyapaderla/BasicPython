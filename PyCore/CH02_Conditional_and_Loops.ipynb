{
 "cells": [
  {
   "cell_type": "markdown",
   "metadata": {},
   "source": [
    "# Conditional statement\n",
    "    * if\n",
    "    * elif\n",
    "    * else \n",
    "    \n",
    "  \n",
    "Note: Python have no Switch Case style"
   ]
  },
  {
   "cell_type": "code",
   "execution_count": null,
   "metadata": {},
   "outputs": [],
   "source": []
  },
  {
   "cell_type": "code",
   "execution_count": 1,
   "metadata": {},
   "outputs": [
    {
     "name": "stdout",
     "output_type": "stream",
     "text": [
      "1 > 2\n"
     ]
    }
   ],
   "source": [
    "if ( 1 < 2 ): print( \"1 > 2\")"
   ]
  },
  {
   "cell_type": "code",
   "execution_count": 2,
   "metadata": {},
   "outputs": [
    {
     "name": "stdout",
     "output_type": "stream",
     "text": [
      "NoneType             | None       | False\n",
      "bool                 | False      | False\n",
      "bool                 | True       | True\n",
      "int                  | 0          | False\n",
      "int                  | 1          | True\n",
      "int                  | 2          | True\n",
      "float                | 0.0        | False\n",
      "float                | 0.1        | True\n",
      "complex              | 0j         | False\n",
      "complex              | 1j         | True\n",
      "str                  |            | False\n",
      "list                 | []         | False\n",
      "list                 | [0]        | True\n",
      "list                 | [1]        | True\n",
      "tuple                | ()         | False\n",
      "tuple                | (0,)       | True\n",
      "dict                 | {}         | False\n",
      "dict                 | {0: 0}     | True\n"
     ]
    }
   ],
   "source": [
    "objs = [ None, \n",
    "        False, True, \n",
    "          0, 1, 2, \n",
    "        0.0, 0.1, \n",
    "        0j, 1J, \n",
    "        \"\", \n",
    "        [], [0], [1],\n",
    "        (), (0,), \n",
    "        {}, {0:0}]\n",
    "\n",
    "frmtStr = \"{obj:20s} | {val:10s} | {status}\"\n",
    "\n",
    "for obj in objs:\n",
    "    status = True if obj else False\n",
    "    strOut = frmtStr.format(obj=str(type(obj).__name__), val=str(obj), status=status)\n",
    "    print(strOut)"
   ]
  },
  {
   "cell_type": "markdown",
   "metadata": {},
   "source": [
    "instances of user-defined classes, if the class defines a \\__bool__() or \\__len__() method, \n",
    "when that method returns the integer zero or bool value False. [1]"
   ]
  },
  {
   "cell_type": "code",
   "execution_count": 3,
   "metadata": {},
   "outputs": [
    {
     "name": "stdout",
     "output_type": "stream",
     "text": [
      "0  = zero\n",
      "1  = one\n",
      "2  = two\n",
      "3  = three\n",
      "4  = yet to learn\n",
      "5  = yet to learn\n",
      "6  = yet to learn\n"
     ]
    }
   ],
   "source": [
    "# number words\n",
    "for i in range(7):\n",
    "    if   ( i == 0 ): print( i , \" = zero\")\n",
    "    elif ( i == 1 ): print( i , \" = one\")\n",
    "    elif ( i == 2 ): print( i , \" = two\")\n",
    "    elif ( i == 3 ): print( i , \" = three\")\n",
    "    else: print( i , \" = yet to learn\")"
   ]
  },
  {
   "cell_type": "markdown",
   "metadata": {},
   "source": [
    "# Loops \n",
    "\n",
    "  - For loop\n",
    "  - While loop\n",
    "  - Reduction operations\n",
    "  - Special Methods\n",
    "\t* enumerate\n",
    "\t* zip"
   ]
  },
  {
   "cell_type": "code",
   "execution_count": 4,
   "metadata": {},
   "outputs": [],
   "source": [
    "s =  \"abcdefghij\"\n",
    "l =  [0, 1, 2, 3, 4, 5, 6, 7, 8, 9]\n",
    "t =  (0, 1, 2, 3, 4, 5, 6, 7, 8, 9)\n",
    "d =  {'a': 0, 'b': 1, 'c': 2, 'd': 3, 'e': 4}\n",
    "S =  {0, 1, 2, 3, 4, 5, 6, 7, 8, 9}"
   ]
  },
  {
   "cell_type": "code",
   "execution_count": 5,
   "metadata": {},
   "outputs": [
    {
     "name": "stdout",
     "output_type": "stream",
     "text": [
      "a, b, c, d, e, f, g, h, i, j, \n"
     ]
    }
   ],
   "source": [
    "for i in s:\n",
    "    # print(i)\n",
    "    print(i, end=\", \")\n",
    "    \n",
    "print()"
   ]
  },
  {
   "cell_type": "code",
   "execution_count": 6,
   "metadata": {},
   "outputs": [
    {
     "name": "stdout",
     "output_type": "stream",
     "text": [
      "0, 1, 2, 3, 4, 5, 6, 7, 8, 9, \n"
     ]
    }
   ],
   "source": [
    "for i in l:\n",
    "    print(i, end=\", \")\n",
    "    \n",
    "print()"
   ]
  },
  {
   "cell_type": "code",
   "execution_count": 7,
   "metadata": {},
   "outputs": [
    {
     "name": "stdout",
     "output_type": "stream",
     "text": [
      "0, 1, 2, 3, 4, 5, 6, 7, 8, 9, \n"
     ]
    }
   ],
   "source": [
    "for i in t:\n",
    "    print(i, end=\", \")\n",
    "    \n",
    "print()"
   ]
  },
  {
   "cell_type": "code",
   "execution_count": 8,
   "metadata": {},
   "outputs": [
    {
     "name": "stdout",
     "output_type": "stream",
     "text": [
      "a, b, c, d, e, \n"
     ]
    }
   ],
   "source": [
    "for i in d:\n",
    "    print(i, end=\", \")\n",
    "    \n",
    "print()"
   ]
  },
  {
   "cell_type": "code",
   "execution_count": 9,
   "metadata": {},
   "outputs": [
    {
     "name": "stdout",
     "output_type": "stream",
     "text": [
      "('a', 0), ('b', 1), ('c', 2), ('d', 3), ('e', 4), \n"
     ]
    }
   ],
   "source": [
    "for i in d.items():\n",
    "    print(i, end=\", \")\n",
    "    \n",
    "print()"
   ]
  },
  {
   "cell_type": "code",
   "execution_count": 10,
   "metadata": {},
   "outputs": [
    {
     "name": "stdout",
     "output_type": "stream",
     "text": [
      "0, 1, 2, 3, 4, 5, 6, 7, 8, 9, \n"
     ]
    }
   ],
   "source": [
    "for i in S:\n",
    "    print(i, end=\", \")\n",
    "    \n",
    "print()"
   ]
  },
  {
   "cell_type": "code",
   "execution_count": 11,
   "metadata": {},
   "outputs": [
    {
     "name": "stdout",
     "output_type": "stream",
     "text": [
      "str : a, b, c, d, e, f, g, h, i, j, \n",
      "list : 0, 1, 2, 3, 4, 5, 6, 7, 8, 9, \n",
      "dict : a, b, c, d, e, \n",
      "tuple : 0, 1, 2, 3, 4, 5, 6, 7, 8, 9, \n",
      "set : 0, 1, 2, 3, 4, 5, 6, 7, 8, 9, \n"
     ]
    }
   ],
   "source": [
    "# objs = [\n",
    "#     \"abcdefghij\",\n",
    "#     [0, 1, 2, 3, 4, 5, 6, 7, 8, 9],\n",
    "#     (0, 1, 2, 3, 4, 5, 6, 7, 8, 9),\n",
    "#     {'a': 0, 'b': 1, 'c': 2, 'd': 3, 'e': 4},\n",
    "#     {0, 1, 2, 3, 4, 5, 6, 7, 8, 9},  \n",
    "# ]\n",
    "\n",
    "objs = [ s, l, d, t, S ]\n",
    "\n",
    "\n",
    "for obj in objs:\n",
    "    print( type(obj).__name__, end=\" : \")\n",
    "    for i in obj:\n",
    "        print(i, end=\", \")\n",
    "    \n",
    "    print()"
   ]
  },
  {
   "cell_type": "code",
   "execution_count": 12,
   "metadata": {},
   "outputs": [
    {
     "data": {
      "text/plain": [
       "'str'"
      ]
     },
     "execution_count": 12,
     "metadata": {},
     "output_type": "execute_result"
    }
   ],
   "source": [
    "type(s).__name__"
   ]
  },
  {
   "cell_type": "markdown",
   "metadata": {},
   "source": [
    "## While Loop\n",
    "\n",
    "- Uses the index"
   ]
  },
  {
   "cell_type": "code",
   "execution_count": 13,
   "metadata": {},
   "outputs": [
    {
     "name": "stdout",
     "output_type": "stream",
     "text": [
      "a, b, c, d, e, f, g, h, i, j, \n"
     ]
    }
   ],
   "source": [
    "i = 0;\n",
    "while( i < len(s)):\n",
    "    print(s[i], end=\", \"); i += 1\n",
    "    \n",
    "print()"
   ]
  },
  {
   "cell_type": "code",
   "execution_count": 14,
   "metadata": {},
   "outputs": [
    {
     "name": "stdout",
     "output_type": "stream",
     "text": [
      "a, b, c, d, e, f, g, h, i, j, \n"
     ]
    }
   ],
   "source": [
    "i = 0;\n",
    "while( i < len(l)):\n",
    "    print(s[i], end=\", \"); i += 1\n",
    "    \n",
    "print()"
   ]
  },
  {
   "cell_type": "code",
   "execution_count": null,
   "metadata": {},
   "outputs": [],
   "source": []
  },
  {
   "cell_type": "markdown",
   "metadata": {},
   "source": [
    "## Reduction Operations"
   ]
  },
  {
   "cell_type": "code",
   "execution_count": 17,
   "metadata": {},
   "outputs": [
    {
     "name": "stdout",
     "output_type": "stream",
     "text": [
      "# List of squares \n",
      " [(0, 0), (1, 1), (2, 4), (3, 9), (4, 16), (5, 25), (6, 36), (7, 49), (8, 64), (9, 81)]\n"
     ]
    },
    {
     "data": {
      "text/plain": [
       "list"
      ]
     },
     "execution_count": 17,
     "metadata": {},
     "output_type": "execute_result"
    }
   ],
   "source": [
    "l_s = [ (e,e*e) for e in range(10)]\n",
    "\n",
    "print(\"# List of squares \\n\", l_s )\n",
    "type(l_s)"
   ]
  },
  {
   "cell_type": "code",
   "execution_count": null,
   "metadata": {},
   "outputs": [],
   "source": [
    "d_s = { e : e*e*e for e in range(10) }\n",
    "\n",
    "print(\"# Dict of cube \\n\", d_s )"
   ]
  },
  {
   "cell_type": "code",
   "execution_count": null,
   "metadata": {},
   "outputs": [],
   "source": [
    "t_s = ( (e, e/2.0) for e in range(10) )\n",
    "\n",
    "print(\"# tuple of halves \\n\", t_s, \"; creates a generator \\n\", list(t_s) )\n",
    "type(t_s)"
   ]
  },
  {
   "cell_type": "markdown",
   "metadata": {},
   "source": [
    "### Break and continue"
   ]
  },
  {
   "cell_type": "code",
   "execution_count": null,
   "metadata": {},
   "outputs": [],
   "source": [
    "\n",
    "i = 0\n",
    "\n",
    "while ( 1 ):\n",
    "    i += 1;    \n",
    "    if ( i < 4 ): continue;\n",
    "    print(\"Value {0} is : 4 < {0} <= 8\".format(i), end=\" ; \") \n",
    "    print(4 < i < 8)\n",
    "    if( i >= 8 ): break\n",
    "    \n"
   ]
  },
  {
   "cell_type": "code",
   "execution_count": null,
   "metadata": {},
   "outputs": [],
   "source": [
    "while ( 1 ):\n",
    "    s = input(\"Should I break the loop YES/NO : \")\n",
    "    if (s == \"YES\"): \n",
    "        print(\"   Thanks for breaking the loop \")\n",
    "        break"
   ]
  },
  {
   "cell_type": "markdown",
   "metadata": {},
   "source": [
    "## Simple Exercise"
   ]
  },
  {
   "cell_type": "markdown",
   "metadata": {},
   "source": [
    "### number pyramid"
   ]
  },
  {
   "cell_type": "code",
   "execution_count": null,
   "metadata": {},
   "outputs": [],
   "source": [
    "for i in range(10):\n",
    "    for j in range(i+1):\n",
    "        print(j, end=\" \");\n",
    "    print()"
   ]
  },
  {
   "cell_type": "code",
   "execution_count": null,
   "metadata": {},
   "outputs": [],
   "source": [
    "for i in range(10):\n",
    "    if ( i % 2 == 0): continue\n",
    "    for j in range(i+1):\n",
    "        if ( j % 2 == 1): continue\n",
    "        print(j, end=\" \");\n",
    "    print()"
   ]
  },
  {
   "cell_type": "code",
   "execution_count": null,
   "metadata": {},
   "outputs": [],
   "source": [
    "n = 10\n",
    "for i in range(n):\n",
    "    \n",
    "    s = 0 ;\n",
    "    while (s < n-i ): \n",
    "        print( \" \", end=\" \"); s += 1\n",
    "    \n",
    "    for j in range(i+1):\n",
    "        print(j, end=\" \");\n",
    "    print(\";\")"
   ]
  },
  {
   "cell_type": "code",
   "execution_count": null,
   "metadata": {},
   "outputs": [],
   "source": [
    "n = 10\n",
    "[ print ( i, end= \" \") if j < i else print (\";\") \n",
    "     for i in range(n)                  \n",
    "     for j in range(i+1) \n",
    "]\n",
    "\n",
    "print ( )"
   ]
  },
  {
   "cell_type": "code",
   "execution_count": null,
   "metadata": {},
   "outputs": [],
   "source": [
    "print( range(0))"
   ]
  },
  {
   "cell_type": "code",
   "execution_count": null,
   "metadata": {},
   "outputs": [],
   "source": [
    "n = 10\n",
    "[ print ( j, end= \" \") if j < i else print (j, \";\") \n",
    "     for i in range(n)                  \n",
    "     for j in range(i+1) \n",
    "]\n",
    "\n",
    "print ( )"
   ]
  },
  {
   "cell_type": "code",
   "execution_count": null,
   "metadata": {},
   "outputs": [],
   "source": [
    "[ print ( \"  \"*((n-i)*int(j == 0))+ str(j), end= \" \") if j < i  else print (\"  \"*((n-i)*int(j == 0))+ str(j), \";\") \n",
    "     for i in range(n)                  \n",
    "     for j in range(i+1) \n",
    "]\n",
    "\n",
    "print()"
   ]
  },
  {
   "cell_type": "code",
   "execution_count": null,
   "metadata": {},
   "outputs": [],
   "source": [
    "colors = ['black', 'white']\n",
    "sizes = ['S', 'M', 'L']\n",
    "for tshirt in ('%s %s' % (c, s) for c in colors for s in sizes):\n",
    "    print(tshirt)"
   ]
  },
  {
   "cell_type": "code",
   "execution_count": null,
   "metadata": {},
   "outputs": [],
   "source": [
    "colors = ['black', 'white']\n",
    "sizes = ['S', 'M', 'L']\n",
    "\n",
    "d_frmt = \"| {:^6d}\"\n",
    "s_frmt = \"| {:^6s}\"\n",
    "\n",
    "for c in [\"sizes\"] + colors: \n",
    "    print(s_frmt.format(c) , end=\"\")\n",
    "print(\" | \")\n",
    "\n",
    "for i, s in enumerate(sizes):\n",
    "    print(s_frmt.format(s) , end=\"\")\n",
    "    for j, c in enumerate(colors):\n",
    "        print(d_frmt.format(i*10+j), end=\"\")\n",
    "    print(\" | \")\n",
    "    \n"
   ]
  },
  {
   "cell_type": "code",
   "execution_count": null,
   "metadata": {},
   "outputs": [],
   "source": []
  }
 ],
 "metadata": {
  "kernelspec": {
   "display_name": "Python 3",
   "language": "python",
   "name": "python3"
  },
  "language_info": {
   "codemirror_mode": {
    "name": "ipython",
    "version": 3
   },
   "file_extension": ".py",
   "mimetype": "text/x-python",
   "name": "python",
   "nbconvert_exporter": "python",
   "pygments_lexer": "ipython3",
   "version": "3.6.5"
  }
 },
 "nbformat": 4,
 "nbformat_minor": 2
}
