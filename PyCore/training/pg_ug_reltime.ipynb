{
 "cells": [
  {
   "cell_type": "raw",
   "metadata": {},
   "source": [
    "# combination and purmutaion\n",
    "   * number of purmutaions\n",
    "   * number of combination\n",
    "   * get the combinations and purmitations"
   ]
  },
  {
   "cell_type": "code",
   "execution_count": 2,
   "metadata": {},
   "outputs": [],
   "source": [
    "l = list(range(5))"
   ]
  },
  {
   "cell_type": "code",
   "execution_count": 3,
   "metadata": {},
   "outputs": [
    {
     "data": {
      "text/plain": [
       "[0, 1, 2, 3, 4]"
      ]
     },
     "execution_count": 3,
     "metadata": {},
     "output_type": "execute_result"
    }
   ],
   "source": [
    "l"
   ]
  },
  {
   "cell_type": "code",
   "execution_count": 11,
   "metadata": {},
   "outputs": [],
   "source": [
    "def fact(n):\n",
    "    f = 1\n",
    "    if n < 1: return 1\n",
    "    for i in range(2, n+1):\n",
    "        # print(f)\n",
    "        f *= i\n",
    "        \n",
    "    return f"
   ]
  },
  {
   "cell_type": "code",
   "execution_count": 12,
   "metadata": {},
   "outputs": [],
   "source": [
    "# fact(5)"
   ]
  },
  {
   "cell_type": "code",
   "execution_count": 13,
   "metadata": {},
   "outputs": [
    {
     "data": {
      "text/plain": [
       "(6, 24, 120)"
      ]
     },
     "execution_count": 13,
     "metadata": {},
     "output_type": "execute_result"
    }
   ],
   "source": [
    "fact(3), fact(4), fact(5), "
   ]
  },
  {
   "cell_type": "code",
   "execution_count": 20,
   "metadata": {},
   "outputs": [],
   "source": [
    "def n_comb(n, r):\n",
    "    c = fact(n) // ( fact(r)*fact(n-r))\n",
    "    return c\n"
   ]
  },
  {
   "cell_type": "code",
   "execution_count": 21,
   "metadata": {},
   "outputs": [
    {
     "data": {
      "text/plain": [
       "2598960"
      ]
     },
     "execution_count": 21,
     "metadata": {},
     "output_type": "execute_result"
    }
   ],
   "source": [
    "n_comb(52, 5)"
   ]
  },
  {
   "cell_type": "code",
   "execution_count": 22,
   "metadata": {},
   "outputs": [],
   "source": [
    "def n_permute(n, r):\n",
    "    p = fact(n) // fact(n-r)\n",
    "    return p\n"
   ]
  },
  {
   "cell_type": "code",
   "execution_count": 23,
   "metadata": {},
   "outputs": [
    {
     "data": {
      "text/plain": [
       "20"
      ]
     },
     "execution_count": 23,
     "metadata": {},
     "output_type": "execute_result"
    }
   ],
   "source": [
    "n_permute(5, 2)"
   ]
  },
  {
   "cell_type": "code",
   "execution_count": 24,
   "metadata": {},
   "outputs": [
    {
     "data": {
      "text/plain": [
       "311875200"
      ]
     },
     "execution_count": 24,
     "metadata": {},
     "output_type": "execute_result"
    }
   ],
   "source": [
    "n_permute(52, 5)"
   ]
  },
  {
   "cell_type": "code",
   "execution_count": 52,
   "metadata": {},
   "outputs": [],
   "source": [
    "def s_combination(l, r=2):\n",
    "    \n",
    "    o = []\n",
    "    for i in l:\n",
    "        for j in l[i+1:]:\n",
    "            o.append( (i, j) )\n",
    "            \n",
    "    return o"
   ]
  },
  {
   "cell_type": "code",
   "execution_count": 53,
   "metadata": {},
   "outputs": [],
   "source": [
    "l = list(range(5))"
   ]
  },
  {
   "cell_type": "code",
   "execution_count": 57,
   "metadata": {},
   "outputs": [
    {
     "data": {
      "text/plain": [
       "[(0, 1),\n",
       " (0, 2),\n",
       " (0, 3),\n",
       " (0, 4),\n",
       " (1, 2),\n",
       " (1, 3),\n",
       " (1, 4),\n",
       " (2, 3),\n",
       " (2, 4),\n",
       " (3, 4)]"
      ]
     },
     "execution_count": 57,
     "metadata": {},
     "output_type": "execute_result"
    }
   ],
   "source": [
    "s_combination(l, 2) "
   ]
  },
  {
   "cell_type": "code",
   "execution_count": 48,
   "metadata": {},
   "outputs": [
    {
     "data": {
      "text/plain": [
       "10"
      ]
     },
     "execution_count": 48,
     "metadata": {},
     "output_type": "execute_result"
    }
   ],
   "source": [
    "len( s_combination(l, 2) )"
   ]
  },
  {
   "cell_type": "code",
   "execution_count": 42,
   "metadata": {},
   "outputs": [
    {
     "data": {
      "text/plain": [
       "10"
      ]
     },
     "execution_count": 42,
     "metadata": {},
     "output_type": "execute_result"
    }
   ],
   "source": [
    "n_comb(5, 2)"
   ]
  },
  {
   "cell_type": "code",
   "execution_count": 64,
   "metadata": {},
   "outputs": [
    {
     "name": "stdout",
     "output_type": "stream",
     "text": [
      "Enter first number:5\n",
      "Enter second number:7\n",
      "Enter third number:8\n",
      "5 7 8\n",
      "5 8 7\n",
      "7 5 8\n",
      "7 8 5\n",
      "8 5 7\n",
      "8 7 5\n"
     ]
    }
   ],
   "source": [
    "a=int(input(\"Enter first number:\"))\n",
    "b=int(input(\"Enter second number:\"))\n",
    "c=int(input(\"Enter third number:\"))\n",
    "d=[]\n",
    "d.append(a)\n",
    "d.append(b)\n",
    "d.append(c)\n",
    "for i in range(0,3):\n",
    "    for j in range(0,3):\n",
    "        for k in range(0,3):\n",
    "            if(i!=j&j!=k&k!=i):\n",
    "                print(d[i],d[j],d[k])\n",
    "\n",
    "                "
   ]
  },
  {
   "cell_type": "code",
   "execution_count": null,
   "metadata": {},
   "outputs": [],
   "source": [
    "a=int(input(\"Enter first number:\"))\n",
    "b=int(input(\"Enter second number:\"))\n",
    "c=int(input(\"Enter third number:\"))\n",
    "d=int(input(\"Enter fourth number:\"))\n",
    "d_1=[]\n",
    "d_1.append(a)\n",
    "d_1.append(b)\n",
    "d_1.append(c)\n",
    "d_1.append(d)\n",
    "for i in range(0,4):\n",
    "    for j in range(0,4):\n",
    "        for k in range(0,4):\n",
    "              for l in range(0,4):\n",
    "            if(i!=j&j!=k&k!=i&l!=k):\n",
    "                print(d[i],d[j],d[k])\n"
   ]
  },
  {
   "cell_type": "code",
   "execution_count": 85,
   "metadata": {},
   "outputs": [],
   "source": [
    "def prem(l):\n",
    "    n = len(l)\n",
    "    o = []\n",
    "    for i in range(0,n):\n",
    "        for j in range(0,n):\n",
    "            for k in range(0,n):\n",
    "                if(i!=j&j!=k&k!=i):\n",
    "                    o.append( (l[i],l[j],l[k]) )\n",
    "                    # print( l[i],l[j],l[k])\n",
    "                    \n",
    "    return o"
   ]
  },
  {
   "cell_type": "code",
   "execution_count": 86,
   "metadata": {},
   "outputs": [
    {
     "data": {
      "text/plain": [
       "60"
      ]
     },
     "execution_count": 86,
     "metadata": {},
     "output_type": "execute_result"
    }
   ],
   "source": [
    "l = [5, 7, 8, 9, 10]\n",
    "len( prem(l) )"
   ]
  },
  {
   "cell_type": "code",
   "execution_count": 87,
   "metadata": {},
   "outputs": [
    {
     "data": {
      "text/plain": [
       "60"
      ]
     },
     "execution_count": 87,
     "metadata": {},
     "output_type": "execute_result"
    }
   ],
   "source": [
    "n_permute(5, 3)"
   ]
  },
  {
   "cell_type": "code",
   "execution_count": 88,
   "metadata": {},
   "outputs": [],
   "source": [
    "def prem_4(l_i):\n",
    "    n = len(l_i)\n",
    "    o = []\n",
    "    for i in range(0,n):\n",
    "        for j in range(0,n):\n",
    "            if i == j: continue\n",
    "            for k in range(0,n):\n",
    "                if k in [i, j]: continue\n",
    "                for l in range(0,n):\n",
    "                    if l in [i, j, k]: continue\n",
    "                    o.append( (l_i[i],l_i[j],l_i[k], l_i[l]) )\n",
    "                    # print( l[i],l[j],l[k])\n",
    "                    \n",
    "    return o"
   ]
  },
  {
   "cell_type": "code",
   "execution_count": 89,
   "metadata": {},
   "outputs": [
    {
     "data": {
      "text/plain": [
       "[(5, 7, 8, 9),\n",
       " (5, 7, 8, 10),\n",
       " (5, 7, 9, 8),\n",
       " (5, 7, 9, 10),\n",
       " (5, 7, 10, 8),\n",
       " (5, 7, 10, 9),\n",
       " (5, 8, 7, 9),\n",
       " (5, 8, 7, 10),\n",
       " (5, 8, 9, 7),\n",
       " (5, 8, 9, 10),\n",
       " (5, 8, 10, 7),\n",
       " (5, 8, 10, 9),\n",
       " (5, 9, 7, 8),\n",
       " (5, 9, 7, 10),\n",
       " (5, 9, 8, 7),\n",
       " (5, 9, 8, 10),\n",
       " (5, 9, 10, 7),\n",
       " (5, 9, 10, 8),\n",
       " (5, 10, 7, 8),\n",
       " (5, 10, 7, 9),\n",
       " (5, 10, 8, 7),\n",
       " (5, 10, 8, 9),\n",
       " (5, 10, 9, 7),\n",
       " (5, 10, 9, 8),\n",
       " (7, 5, 8, 9),\n",
       " (7, 5, 8, 10),\n",
       " (7, 5, 9, 8),\n",
       " (7, 5, 9, 10),\n",
       " (7, 5, 10, 8),\n",
       " (7, 5, 10, 9),\n",
       " (7, 8, 5, 9),\n",
       " (7, 8, 5, 10),\n",
       " (7, 8, 9, 5),\n",
       " (7, 8, 9, 10),\n",
       " (7, 8, 10, 5),\n",
       " (7, 8, 10, 9),\n",
       " (7, 9, 5, 8),\n",
       " (7, 9, 5, 10),\n",
       " (7, 9, 8, 5),\n",
       " (7, 9, 8, 10),\n",
       " (7, 9, 10, 5),\n",
       " (7, 9, 10, 8),\n",
       " (7, 10, 5, 8),\n",
       " (7, 10, 5, 9),\n",
       " (7, 10, 8, 5),\n",
       " (7, 10, 8, 9),\n",
       " (7, 10, 9, 5),\n",
       " (7, 10, 9, 8),\n",
       " (8, 5, 7, 9),\n",
       " (8, 5, 7, 10),\n",
       " (8, 5, 9, 7),\n",
       " (8, 5, 9, 10),\n",
       " (8, 5, 10, 7),\n",
       " (8, 5, 10, 9),\n",
       " (8, 7, 5, 9),\n",
       " (8, 7, 5, 10),\n",
       " (8, 7, 9, 5),\n",
       " (8, 7, 9, 10),\n",
       " (8, 7, 10, 5),\n",
       " (8, 7, 10, 9),\n",
       " (8, 9, 5, 7),\n",
       " (8, 9, 5, 10),\n",
       " (8, 9, 7, 5),\n",
       " (8, 9, 7, 10),\n",
       " (8, 9, 10, 5),\n",
       " (8, 9, 10, 7),\n",
       " (8, 10, 5, 7),\n",
       " (8, 10, 5, 9),\n",
       " (8, 10, 7, 5),\n",
       " (8, 10, 7, 9),\n",
       " (8, 10, 9, 5),\n",
       " (8, 10, 9, 7),\n",
       " (9, 5, 7, 8),\n",
       " (9, 5, 7, 10),\n",
       " (9, 5, 8, 7),\n",
       " (9, 5, 8, 10),\n",
       " (9, 5, 10, 7),\n",
       " (9, 5, 10, 8),\n",
       " (9, 7, 5, 8),\n",
       " (9, 7, 5, 10),\n",
       " (9, 7, 8, 5),\n",
       " (9, 7, 8, 10),\n",
       " (9, 7, 10, 5),\n",
       " (9, 7, 10, 8),\n",
       " (9, 8, 5, 7),\n",
       " (9, 8, 5, 10),\n",
       " (9, 8, 7, 5),\n",
       " (9, 8, 7, 10),\n",
       " (9, 8, 10, 5),\n",
       " (9, 8, 10, 7),\n",
       " (9, 10, 5, 7),\n",
       " (9, 10, 5, 8),\n",
       " (9, 10, 7, 5),\n",
       " (9, 10, 7, 8),\n",
       " (9, 10, 8, 5),\n",
       " (9, 10, 8, 7),\n",
       " (10, 5, 7, 8),\n",
       " (10, 5, 7, 9),\n",
       " (10, 5, 8, 7),\n",
       " (10, 5, 8, 9),\n",
       " (10, 5, 9, 7),\n",
       " (10, 5, 9, 8),\n",
       " (10, 7, 5, 8),\n",
       " (10, 7, 5, 9),\n",
       " (10, 7, 8, 5),\n",
       " (10, 7, 8, 9),\n",
       " (10, 7, 9, 5),\n",
       " (10, 7, 9, 8),\n",
       " (10, 8, 5, 7),\n",
       " (10, 8, 5, 9),\n",
       " (10, 8, 7, 5),\n",
       " (10, 8, 7, 9),\n",
       " (10, 8, 9, 5),\n",
       " (10, 8, 9, 7),\n",
       " (10, 9, 5, 7),\n",
       " (10, 9, 5, 8),\n",
       " (10, 9, 7, 5),\n",
       " (10, 9, 7, 8),\n",
       " (10, 9, 8, 5),\n",
       " (10, 9, 8, 7)]"
      ]
     },
     "execution_count": 89,
     "metadata": {},
     "output_type": "execute_result"
    }
   ],
   "source": [
    "prem_4(l)"
   ]
  },
  {
   "cell_type": "code",
   "execution_count": null,
   "metadata": {},
   "outputs": [],
   "source": []
  }
 ],
 "metadata": {
  "kernelspec": {
   "display_name": "Python 3",
   "language": "python",
   "name": "python3"
  },
  "language_info": {
   "codemirror_mode": {
    "name": "ipython",
    "version": 3
   },
   "file_extension": ".py",
   "mimetype": "text/x-python",
   "name": "python",
   "nbconvert_exporter": "python",
   "pygments_lexer": "ipython3",
   "version": "3.6.5"
  }
 },
 "nbformat": 4,
 "nbformat_minor": 2
}
