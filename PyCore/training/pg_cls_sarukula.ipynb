{
 "cells": [
  {
   "cell_type": "code",
   "execution_count": 32,
   "metadata": {},
   "outputs": [],
   "source": [
    "class SuperMarket(object):\n",
    "    \n",
    "    def __init__(self, name, location, product=\"sarukulu\"):\n",
    "        self.name = name\n",
    "        self.location = location\n",
    "        \n",
    "        self.inSlip = []\n",
    "        self.inBasket = []\n",
    "        \n",
    "        \n",
    "    # slip preparation\n",
    "        \n",
    "    def add2Slip(self, item):\n",
    "\n",
    "            if item in self.inSlip: \n",
    "                print(\"Oops: '{0}' already available. Check in list\".format(item))\n",
    "\n",
    "            else:\n",
    "                self.inSlip.append(item)\n",
    "                print(\"'{0}' add item to list\".format(item))     \n",
    "            \n",
    "    def delFromSlip(self, item):\n",
    "\n",
    "            if item in self.inSlip: \n",
    "                print(\"'{0}' removed from slip\".format(item))\n",
    "                self.inSlip.remove(item)\n",
    "                  \n",
    "    def add2Basket(self, item):\n",
    "\n",
    "            if item in self.inBasket: \n",
    "                print(\"Oops: '{0}' already available. Check in list\".format(item))\n",
    "\n",
    "            elif item not in self.inSlip:\n",
    "                print(\"Oops: '{0}' is not in slip.\".format(item))\n",
    "\n",
    "            else:\n",
    "                self.inBasket.append(item)\n",
    "                print(\"'{0}' add item to list\".format(item))     \n",
    "            \n",
    "    def delFromBasket(self, item):\n",
    "\n",
    "            if item in self.inBasket: \n",
    "                print(\"'{0}' removed from slip\".format(item))\n",
    "                self.inBasket.remove(item)\n",
    "                     \n",
    "    def audit(self):\n",
    "        \n",
    "        pending = set(self.inSlip) - set(self.inBasket)\n",
    "        if len(pending) > 0:\n",
    "            print(\"Yet to buy - {0}\".format(pending))\n",
    "        else:\n",
    "            print(\"Done with shoping\")\n",
    "            \n",
    "            \n",
    "    def show(self):\n",
    "        print(\"inSlip   :\", self.inSlip)\n",
    "        print(\"inBasket :\", self.inBasket)\n"
   ]
  },
  {
   "cell_type": "code",
   "execution_count": null,
   "metadata": {},
   "outputs": [],
   "source": []
  },
  {
   "cell_type": "code",
   "execution_count": 33,
   "metadata": {},
   "outputs": [],
   "source": [
    "maxMarket = SuperMarket(\"Max\", \"Doddanakundi\")"
   ]
  },
  {
   "cell_type": "code",
   "execution_count": 34,
   "metadata": {},
   "outputs": [
    {
     "name": "stdout",
     "output_type": "stream",
     "text": [
      "'DiaryMilk' add item to list\n"
     ]
    }
   ],
   "source": [
    "maxMarket.add2Slip(\"DiaryMilk\")"
   ]
  },
  {
   "cell_type": "code",
   "execution_count": 35,
   "metadata": {},
   "outputs": [
    {
     "name": "stdout",
     "output_type": "stream",
     "text": [
      "'Lindit' add item to list\n"
     ]
    }
   ],
   "source": [
    "maxMarket.add2Slip(\"Lindit\")"
   ]
  },
  {
   "cell_type": "code",
   "execution_count": 36,
   "metadata": {},
   "outputs": [],
   "source": [
    "maxMarket.delFromSlip(\"Mango\")"
   ]
  },
  {
   "cell_type": "code",
   "execution_count": 37,
   "metadata": {},
   "outputs": [
    {
     "name": "stdout",
     "output_type": "stream",
     "text": [
      "inSlip   : ['DiaryMilk', 'Lindit']\n",
      "inBasket : []\n"
     ]
    }
   ],
   "source": [
    "maxMarket.show()"
   ]
  },
  {
   "cell_type": "code",
   "execution_count": 38,
   "metadata": {},
   "outputs": [
    {
     "name": "stdout",
     "output_type": "stream",
     "text": [
      "Oops: 'DairyMilk' is not in slip.\n",
      "'Lindit' add item to list\n"
     ]
    }
   ],
   "source": [
    "maxMarket.add2Basket(\"DairyMilk\")\n",
    "maxMarket.add2Basket(\"Lindit\")"
   ]
  },
  {
   "cell_type": "code",
   "execution_count": 39,
   "metadata": {},
   "outputs": [
    {
     "name": "stdout",
     "output_type": "stream",
     "text": [
      "Oops: 'Mango' is not in slip.\n"
     ]
    }
   ],
   "source": [
    "maxMarket.add2Basket(\"Mango\")"
   ]
  },
  {
   "cell_type": "code",
   "execution_count": 40,
   "metadata": {},
   "outputs": [
    {
     "name": "stdout",
     "output_type": "stream",
     "text": [
      "inSlip   : ['DiaryMilk', 'Lindit']\n",
      "inBasket : ['Lindit']\n"
     ]
    }
   ],
   "source": [
    "maxMarket.show()"
   ]
  },
  {
   "cell_type": "code",
   "execution_count": 23,
   "metadata": {},
   "outputs": [
    {
     "name": "stdout",
     "output_type": "stream",
     "text": [
      "Yet to buy - {'Domex', 'DiaryMilk'}\n"
     ]
    }
   ],
   "source": [
    "maxMarket.audit()"
   ]
  },
  {
   "cell_type": "code",
   "execution_count": null,
   "metadata": {},
   "outputs": [],
   "source": []
  }
 ],
 "metadata": {
  "kernelspec": {
   "display_name": "Python 3",
   "language": "python",
   "name": "python3"
  },
  "language_info": {
   "codemirror_mode": {
    "name": "ipython",
    "version": 3
   },
   "file_extension": ".py",
   "mimetype": "text/x-python",
   "name": "python",
   "nbconvert_exporter": "python",
   "pygments_lexer": "ipython3",
   "version": "3.6.5"
  }
 },
 "nbformat": 4,
 "nbformat_minor": 2
}
