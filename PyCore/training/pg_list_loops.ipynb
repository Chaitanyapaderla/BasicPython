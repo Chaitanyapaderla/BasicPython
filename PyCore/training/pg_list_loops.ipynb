{
 "cells": [
  {
   "cell_type": "code",
   "execution_count": 1,
   "metadata": {},
   "outputs": [],
   "source": [
    "# Q0 : Create a list"
   ]
  },
  {
   "cell_type": "code",
   "execution_count": 2,
   "metadata": {},
   "outputs": [],
   "source": [
    "# Q1: List of squares of each element in list"
   ]
  },
  {
   "cell_type": "code",
   "execution_count": 11,
   "metadata": {},
   "outputs": [
    {
     "data": {
      "text/plain": [
       "[0, 1, 4, 9, 16, 25, 36, 49, 64, 81]"
      ]
     },
     "execution_count": 11,
     "metadata": {},
     "output_type": "execute_result"
    }
   ],
   "source": [
    "c = list(range(10))\n",
    "c_sqr=[]\n",
    "for i in c:\n",
    "    c_sqr.append(i*i)\n",
    "        \n",
    "c_sqr    "
   ]
  },
  {
   "cell_type": "code",
   "execution_count": 4,
   "metadata": {},
   "outputs": [
    {
     "data": {
      "text/plain": [
       "[0, 0, 1, 1, 2, 2, 3, 3, 4, 4]"
      ]
     },
     "execution_count": 4,
     "metadata": {},
     "output_type": "execute_result"
    }
   ],
   "source": [
    "# Divisible by 2, quotient \n",
    "c = list(range(10))\n",
    "c_qu_by_2 = []\n",
    "for i in c:\n",
    "    c_qu_by_2.append( i//2 )\n",
    "\n",
    "c_qu_by_2"
   ]
  },
  {
   "cell_type": "code",
   "execution_count": 6,
   "metadata": {},
   "outputs": [
    {
     "data": {
      "text/plain": [
       "[0, 1, 0, 1, 0, 1, 0, 1, 0, 1]"
      ]
     },
     "execution_count": 6,
     "metadata": {},
     "output_type": "execute_result"
    }
   ],
   "source": [
    "# Remainder when divided 2 \n",
    "c = list(range(10))\n",
    "r = []\n",
    "for i in c:\n",
    "    r.append( i % 2 )\n",
    "\n",
    "r"
   ]
  },
  {
   "cell_type": "code",
   "execution_count": 14,
   "metadata": {},
   "outputs": [
    {
     "name": "stdout",
     "output_type": "stream",
     "text": [
      "0\n",
      "4\n",
      "2\n",
      "6\n",
      "8\n",
      "10\n",
      "12\n"
     ]
    },
    {
     "data": {
      "text/plain": [
       "[0, 4, 2, 6, 8, 10, 12]"
      ]
     },
     "execution_count": 14,
     "metadata": {},
     "output_type": "execute_result"
    }
   ],
   "source": [
    "# Q2: Print all even numbers in given list\n",
    "e = [0,3,4,2,5,6,9,8,10,12]\n",
    "e1= []\n",
    "for i in e:\n",
    "    if i % 2 == 0:\n",
    "        print(i)\n",
    "        e1.append(i)\n",
    "e1        "
   ]
  },
  {
   "cell_type": "code",
   "execution_count": 21,
   "metadata": {},
   "outputs": [
    {
     "name": "stdout",
     "output_type": "stream",
     "text": [
      "[0, 2, 4, 6, 8, 10, 12, 14, 16]\n"
     ]
    }
   ],
   "source": [
    "# Q3: Print first 10 even numbers\n",
    "   # Atleast two way\n",
    "    \n",
    "e = list(range(0, 20, 2))\n",
    "print(e)\n",
    "    "
   ]
  },
  {
   "cell_type": "code",
   "execution_count": 8,
   "metadata": {},
   "outputs": [
    {
     "data": {
      "text/plain": [
       "[10, 14, 16, 196, 58, 96, 76, 98]"
      ]
     },
     "execution_count": 8,
     "metadata": {},
     "output_type": "execute_result"
    }
   ],
   "source": [
    "# Q4: get first 6 even numbers in a given list\n",
    "l = [1, 10, 14, 16, 17, 19, 25, 17, 196, 58, 96, 76, 98]\n",
    "# l = []\n",
    "n = 15\n",
    "\n",
    "# first n even number\n",
    "\n",
    "e = []\n",
    "for i in l:\n",
    "    if i % 2 == 0:\n",
    "        # print(i)\n",
    "        e.append(i)\n",
    "        \n",
    "    if len(e) >= n:\n",
    "        break\n",
    "        \n",
    "e"
   ]
  },
  {
   "cell_type": "code",
   "execution_count": 31,
   "metadata": {},
   "outputs": [],
   "source": [
    "def getFirstNEvenNumbers(l, n):\n",
    "    e = []\n",
    "    for i in l:\n",
    "        if i % 2 == 0:\n",
    "            # print(i)\n",
    "            e.append(i)\n",
    "\n",
    "        if( len(e) ) >= n:\n",
    "            break\n",
    "            \n",
    "    return e\n"
   ]
  },
  {
   "cell_type": "code",
   "execution_count": 35,
   "metadata": {},
   "outputs": [
    {
     "data": {
      "text/plain": [
       "40"
      ]
     },
     "execution_count": 35,
     "metadata": {},
     "output_type": "execute_result"
    }
   ],
   "source": [
    "l = [1, 10, 14, 16, 17, 19, 25, 17, 196, 58, 96, 76, 98]\n",
    "n = 15\n",
    "\n",
    "le = getFirstNEvenNumbers(l[:7], n)\n",
    "s = 0\n",
    "for i in le: \n",
    "    s += i\n",
    "\n",
    "s"
   ]
  },
  {
   "cell_type": "code",
   "execution_count": 36,
   "metadata": {},
   "outputs": [
    {
     "data": {
      "text/plain": [
       "40"
      ]
     },
     "execution_count": 36,
     "metadata": {},
     "output_type": "execute_result"
    }
   ],
   "source": [
    "sum(le)"
   ]
  },
  {
   "cell_type": "code",
   "execution_count": null,
   "metadata": {},
   "outputs": [],
   "source": []
  },
  {
   "cell_type": "code",
   "execution_count": 5,
   "metadata": {},
   "outputs": [],
   "source": [
    "from numpy.random import randint"
   ]
  },
  {
   "cell_type": "code",
   "execution_count": 19,
   "metadata": {},
   "outputs": [
    {
     "name": "stdout",
     "output_type": "stream",
     "text": [
      "{0: 0, 1: 1051, 2: 1089, 3: 1099, 4: 1176, 5: 1121, 6: 1078, 7: 1118, 8: 1093, 9: 1175, 10: 0}\n"
     ]
    }
   ],
   "source": [
    "n = 10\n",
    "l_r = list( randint(1, n, 10000 ))\n",
    "# l_2 = list( randint(1, 100, 1500) )\n",
    "# l_3 = l_1 + l_2\n",
    "freq = {}\n",
    "for i in range(n+1):\n",
    "    count = l_r.count(i)\n",
    "    freq[i] = count\n",
    "    \n",
    "    \n",
    "print(freq)\n"
   ]
  },
  {
   "cell_type": "code",
   "execution_count": null,
   "metadata": {},
   "outputs": [],
   "source": []
  },
  {
   "cell_type": "code",
   "execution_count": null,
   "metadata": {},
   "outputs": [],
   "source": [
    "l_1 = list( randint(1, 100, 1500) )\n",
    "l_2 = list( randint(1, 100, 1500) )\n",
    "\n",
    "l_3 = l_1 + l_2\n"
   ]
  },
  {
   "cell_type": "code",
   "execution_count": 95,
   "metadata": {},
   "outputs": [
    {
     "name": "stdout",
     "output_type": "stream",
     "text": [
      "even: [764, 224, 616, 436, 338, 866, 642, 448, 502, 624]\n",
      "odd: [337, 155, 207, 79, 71, 157, 343, 735, 951, 487, 355, 511, 197, 875, 243]\n"
     ]
    }
   ],
   "source": [
    "# odd even\n",
    "\n",
    "# l_1 = list(range(0,10))\n",
    "# l_2 = list(range(11,20))\n",
    "e_d = []; o_d = []\n",
    "a = l_1 + l_2\n",
    "for i in a:\n",
    "    if i % 2 == 0:\n",
    "        e_d.append(i)\n",
    "    else:\n",
    "        o_d.append(i)\n",
    "        \n",
    "print(\"even:\", e_d)\n",
    "print(\"odd:\", o_d)\n"
   ]
  },
  {
   "cell_type": "code",
   "execution_count": 1,
   "metadata": {},
   "outputs": [],
   "source": [
    "# a"
   ]
  },
  {
   "cell_type": "code",
   "execution_count": 2,
   "metadata": {},
   "outputs": [],
   "source": [
    "# a"
   ]
  },
  {
   "cell_type": "code",
   "execution_count": 3,
   "metadata": {},
   "outputs": [],
   "source": [
    "# a[::2]"
   ]
  },
  {
   "cell_type": "code",
   "execution_count": 26,
   "metadata": {},
   "outputs": [
    {
     "name": "stdout",
     "output_type": "stream",
     "text": [
      "{2: 0, 4: 0, 6: 0, 8: 0, 10: 0, 12: 0, 14: 0, 16: 0, 18: 0, 20: 0, 22: 0, 24: 0, 26: 0, 28: 0, 30: 0, 32: 0, 34: 0, 36: 0, 38: 0, 40: 0, 42: 0, 44: 0, 46: 0, 48: 0, 50: 0, 52: 0, 54: 0, 56: 0, 58: 0, 60: 0, 62: 0, 64: 0, 66: 0, 68: 0, 70: 0, 72: 0, 74: 0, 76: 0, 78: 0, 80: 0, 82: 0, 84: 0, 86: 0, 88: 0, 90: 0, 92: 0, 94: 0, 96: 0, 98: 0}\n"
     ]
    }
   ],
   "source": [
    "n = 100\n",
    "l_r = list( randint(1, n, 10000 ))\n",
    "# l_2 = list( randint(1, 100, 1500) )\n",
    "# l_3 = l_1 + l_2\n",
    "freq = {}\n",
    "e_d = []\n",
    "for i in range(1, n):\n",
    "    if i % 2 == 0:\n",
    "        count = e_d.count(i)\n",
    "        freq[i] = count\n",
    "    \n",
    "    \n",
    "print(freq)"
   ]
  },
  {
   "cell_type": "code",
   "execution_count": null,
   "metadata": {},
   "outputs": [],
   "source": []
  },
  {
   "cell_type": "code",
   "execution_count": 31,
   "metadata": {},
   "outputs": [
    {
     "ename": "IndentationError",
     "evalue": "unindent does not match any outer indentation level (<ipython-input-31-a68095d3a0a0>, line 8)",
     "output_type": "error",
     "traceback": [
      "\u001b[0;36m  File \u001b[0;32m\"<ipython-input-31-a68095d3a0a0>\"\u001b[0;36m, line \u001b[0;32m8\u001b[0m\n\u001b[0;31m    print(i)\u001b[0m\n\u001b[0m                               ^\u001b[0m\n\u001b[0;31mIndentationError\u001b[0m\u001b[0;31m:\u001b[0m unindent does not match any outer indentation level\n"
     ]
    }
   ],
   "source": [
    "l_p = list(range(11,30))\n",
    "for i in l_p:\n",
    "    if i > 1:\n",
    "        for n in range(2, i):\n",
    "            if (i % n) == 0:\n",
    "                break\n",
    "        else:\n",
    " print(i)                   \n",
    "   \n"
   ]
  },
  {
   "cell_type": "code",
   "execution_count": 86,
   "metadata": {},
   "outputs": [],
   "source": [
    "import math \n",
    "def isPrime(n):\n",
    "    if n < 2: \n",
    "        return False\n",
    "    if n == 2 or n == 3: return True\n",
    "    is_prime = True\n",
    "    l = round( math.sqrt(n) )\n",
    "    for i in range (2, l+2) :\n",
    "        if n % i == 0:\n",
    "            is_prime = False\n",
    "            break\n",
    "        \n",
    "    return is_prime"
   ]
  },
  {
   "cell_type": "code",
   "execution_count": null,
   "metadata": {},
   "outputs": [],
   "source": []
  },
  {
   "cell_type": "code",
   "execution_count": 87,
   "metadata": {},
   "outputs": [
    {
     "data": {
      "text/plain": [
       "True"
      ]
     },
     "execution_count": 87,
     "metadata": {},
     "output_type": "execute_result"
    }
   ],
   "source": [
    "isPrime(3)"
   ]
  },
  {
   "cell_type": "code",
   "execution_count": 88,
   "metadata": {},
   "outputs": [
    {
     "name": "stdout",
     "output_type": "stream",
     "text": [
      "{2: 1121, 3: 1129, 5: 1106, 7: 1067}\n"
     ]
    }
   ],
   "source": [
    "# Q1: Non prime number frequency\n",
    "# Q2: Prime number frequency\n",
    "\n",
    "n = 10\n",
    "l_r = list( randint(1, n, 10000 ))\n",
    "# l_2 = list( randint(1, 100, 1500) )\n",
    "# l_3 = l_1 + l_2\n",
    "freq = {}\n",
    "n_p = []\n",
    "for i in range(1, n+1):\n",
    "    if isPrime(i): \n",
    "        count = l_r.count(i)\n",
    "        freq[i] = count\n",
    "    \n",
    "    \n",
    "print(freq)"
   ]
  },
  {
   "cell_type": "code",
   "execution_count": null,
   "metadata": {},
   "outputs": [],
   "source": []
  }
 ],
 "metadata": {
  "kernelspec": {
   "display_name": "Python 3",
   "language": "python",
   "name": "python3"
  },
  "language_info": {
   "codemirror_mode": {
    "name": "ipython",
    "version": 3
   },
   "file_extension": ".py",
   "mimetype": "text/x-python",
   "name": "python",
   "nbconvert_exporter": "python",
   "pygments_lexer": "ipython3",
   "version": "3.6.5"
  }
 },
 "nbformat": 4,
 "nbformat_minor": 2
}
