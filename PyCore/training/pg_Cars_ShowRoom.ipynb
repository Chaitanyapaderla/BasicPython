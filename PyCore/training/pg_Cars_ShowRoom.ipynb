{
 "cells": [
  {
   "cell_type": "markdown",
   "metadata": {},
   "source": [
    "### Car Showroom monthly sales\n",
    "   * Monthly sales by person\n",
    "   * Monthly sales of showroom\n",
    "   * Monthly sales of a model"
   ]
  },
  {
   "cell_type": "code",
   "execution_count": 1,
   "metadata": {},
   "outputs": [],
   "source": [
    "from numpy.random import randint"
   ]
  },
  {
   "cell_type": "code",
   "execution_count": 2,
   "metadata": {},
   "outputs": [
    {
     "data": {
      "text/plain": [
       "1464"
      ]
     },
     "execution_count": 2,
     "metadata": {},
     "output_type": "execute_result"
    }
   ],
   "source": [
    "randint(1000, 2000)"
   ]
  },
  {
   "cell_type": "code",
   "execution_count": 24,
   "metadata": {},
   "outputs": [],
   "source": [
    "class RTO:\n",
    "    \n",
    "    Codes = {\n",
    "         \"krpuram\"   : \"KA 27 Z\",\n",
    "         \"indranagar\" : \"KA 03 X\",  \n",
    "    } \n",
    "    \n",
    "\n",
    "    def __init__(self, name ):\n",
    "        self.name = name\n",
    "        self.code = self.Codes[name]\n",
    "        \n",
    "    def register(self, model, make, name):\n",
    "        \n",
    "        regno = \"{0} {1:04d}\".format( self.code, randint(2000) )\n",
    "        # self.name = name\n",
    "        \n",
    "        return regno\n",
    "    \n",
    "    def __str__(self):\n",
    "        return self.name\n",
    "    \n",
    "    def __repr__(self):\n",
    "        return \"RTO - {0}\".format(self.name)\n",
    "    \n"
   ]
  },
  {
   "cell_type": "code",
   "execution_count": 25,
   "metadata": {},
   "outputs": [],
   "source": [
    "# rto_krpuram = RTO(\"krpuram\")"
   ]
  },
  {
   "cell_type": "code",
   "execution_count": 27,
   "metadata": {},
   "outputs": [
    {
     "data": {
      "text/plain": [
       "'KA 27 Z 0449'"
      ]
     },
     "execution_count": 27,
     "metadata": {},
     "output_type": "execute_result"
    }
   ],
   "source": [
    "# rto_krpuram.register(\"Benz\", \"a-class\", \"Muni\")"
   ]
  },
  {
   "cell_type": "code",
   "execution_count": 63,
   "metadata": {},
   "outputs": [],
   "source": [
    "class Car:\n",
    "\n",
    "    prizes = [ \n",
    "       [\"Benz\", \"c-class\", 50],\n",
    "       [\"Benz\", \"e-class\", 65],\n",
    "       [\"Benz\", \"a-class\", 35],\n",
    "       [\"Benz\", \"b-class\", 30],\n",
    "    ]\n",
    "        \n",
    "    def __init__(self, model, make ):\n",
    "        self.model = model\n",
    "        self.make = make\n",
    "        \n",
    "        self.prize = self.getPrize()\n",
    "        self.regno = None\n",
    "        \n",
    "    \n",
    "    def getPrize(self):\n",
    "        # print( self.prizes )\n",
    "        for make, model, prize in self.prizes:\n",
    "            if model == self.model and make == self.make:\n",
    "                return prize\n",
    "#             else:\n",
    "#                 print(\"{make}!={c_make}  - {model}!={c_model}\".format(\n",
    "#                     make=self.make, model=self.model,\n",
    "#                     c_model=model, c_make=make\n",
    "#                 ))\n",
    "            \n",
    "        print(\"No price list for {make}-{model}\".format(make=self.make, model=self.model))\n",
    "        return \n",
    "            \n",
    "#     def register(self, name, rto):\n",
    "#         self.regno = rto.register(name)\n",
    "        \n",
    "        \n",
    "    def show(self):\n",
    "        print( self.model, self.make, self.regno, self.prize)\n",
    "        \n",
    "        \n",
    "    def __str__(self):\n",
    "        return self.regno\n",
    "    \n",
    "    def __repr__(self):\n",
    "        return \"{name} - {0}\".format(self.regno, name = self.__class__.__name__)\n",
    "    \n",
    "                \n",
    "        \n",
    "class BenzCar(Car):\n",
    "\n",
    "    def __init__(self, model):\n",
    "        Car.__init__(self, model, \"Benz\")\n",
    "        "
   ]
  },
  {
   "cell_type": "code",
   "execution_count": 64,
   "metadata": {},
   "outputs": [],
   "source": [
    "car = BenzCar(\"c-class\")\n",
    "car.regno = \"fromRto\""
   ]
  },
  {
   "cell_type": "code",
   "execution_count": 65,
   "metadata": {},
   "outputs": [
    {
     "data": {
      "text/plain": [
       "BenzCar - fromRto"
      ]
     },
     "execution_count": 65,
     "metadata": {},
     "output_type": "execute_result"
    }
   ],
   "source": [
    "car"
   ]
  },
  {
   "cell_type": "code",
   "execution_count": 61,
   "metadata": {},
   "outputs": [
    {
     "name": "stdout",
     "output_type": "stream",
     "text": [
      "c-class Benz fromRto 50\n"
     ]
    }
   ],
   "source": [
    "car.show()"
   ]
  },
  {
   "cell_type": "code",
   "execution_count": null,
   "metadata": {},
   "outputs": [],
   "source": [
    "# "
   ]
  },
  {
   "cell_type": "code",
   "execution_count": 149,
   "metadata": {},
   "outputs": [],
   "source": [
    "class SalesMan(object):\n",
    "    \n",
    "    def __init__(self, name, rto ):\n",
    "        self.name = name\n",
    "        self.rto = rto\n",
    "\n",
    "        self.soldCars = [] \n",
    "        self.busy = False\n",
    "        \n",
    "    def buy(self, model, client):\n",
    "        car = BenzCar(model)\n",
    "        car.regno = self.rto.register(model, car.make, client)\n",
    "        \n",
    "        self.soldCars.append( car )\n",
    "            \n",
    "        return car\n",
    "            \n",
    "        \n",
    "    def total(self):\n",
    "        \n",
    "        total = 0\n",
    "        for car in self.soldCars:\n",
    "            try:\n",
    "                total += car.prize\n",
    "            except Exception as err:\n",
    "                import pdb; pdb.set_trace()\n",
    "            \n",
    "        return total\n",
    "    \n",
    "    def __str__(self):\n",
    "        return self.name\n",
    "    \n",
    "    def __repr__(self):\n",
    "        return \"SalesMan - {0}\".format(self.name)\n",
    "    \n",
    "    def show(self):\n",
    "        \n",
    "        for car in self.soldCars:\n",
    "            print(\"   \", car)\n",
    "    \n",
    "    "
   ]
  },
  {
   "cell_type": "code",
   "execution_count": 150,
   "metadata": {},
   "outputs": [],
   "source": [
    "muniSeller = SalesMan(\"Muni\", RTO(\"krpuram\") )"
   ]
  },
  {
   "cell_type": "code",
   "execution_count": 151,
   "metadata": {},
   "outputs": [
    {
     "data": {
      "text/plain": [
       "SalesMan - Muni"
      ]
     },
     "execution_count": 151,
     "metadata": {},
     "output_type": "execute_result"
    }
   ],
   "source": [
    "muniSeller"
   ]
  },
  {
   "cell_type": "code",
   "execution_count": 152,
   "metadata": {},
   "outputs": [
    {
     "data": {
      "text/plain": [
       "BenzCar - KA 27 Z 0318"
      ]
     },
     "execution_count": 152,
     "metadata": {},
     "output_type": "execute_result"
    }
   ],
   "source": [
    "muniSeller.buy(\"a-class\", \"Vamsi\")\n",
    "muniSeller.buy(\"a-class\", \"Rajitha\")\n",
    "muniSeller.buy(\"a-class\", \"Ravi\")"
   ]
  },
  {
   "cell_type": "code",
   "execution_count": 153,
   "metadata": {},
   "outputs": [
    {
     "data": {
      "text/plain": [
       "[BenzCar - KA 27 Z 0162, BenzCar - KA 27 Z 0677, BenzCar - KA 27 Z 0318]"
      ]
     },
     "execution_count": 153,
     "metadata": {},
     "output_type": "execute_result"
    }
   ],
   "source": [
    "muniSeller.soldCars"
   ]
  },
  {
   "cell_type": "code",
   "execution_count": 154,
   "metadata": {},
   "outputs": [
    {
     "data": {
      "text/plain": [
       "105"
      ]
     },
     "execution_count": 154,
     "metadata": {},
     "output_type": "execute_result"
    }
   ],
   "source": [
    "muniSeller.total()"
   ]
  },
  {
   "cell_type": "code",
   "execution_count": 155,
   "metadata": {},
   "outputs": [
    {
     "name": "stdout",
     "output_type": "stream",
     "text": [
      "    KA 27 Z 0162\n",
      "    KA 27 Z 0677\n",
      "    KA 27 Z 0318\n"
     ]
    }
   ],
   "source": [
    "muniSeller.show()"
   ]
  },
  {
   "cell_type": "code",
   "execution_count": null,
   "metadata": {},
   "outputs": [],
   "source": [
    "#"
   ]
  },
  {
   "cell_type": "code",
   "execution_count": 75,
   "metadata": {},
   "outputs": [],
   "source": [
    "# "
   ]
  },
  {
   "cell_type": "code",
   "execution_count": 166,
   "metadata": {},
   "outputs": [],
   "source": [
    "class ShowRoom(object):\n",
    "    \n",
    "    def __init__(self, name ):\n",
    "        self.name = name\n",
    "        self.salesMen = []\n",
    "        self.noSalesMan = 0\n",
    "\n",
    "        self.rtos = {\n",
    "            \"krpuram\"    : RTO(\"krpuram\"),\n",
    "            \"indarnagar\" : RTO(\"indranagar\")\n",
    "        }\n",
    "        \n",
    "    def addSalesMan(self, name, rto):\n",
    "        \"\"\" \"\"\"\n",
    "        rto  = self.rtos[rto]\n",
    "        salesMan = SalesMan(name, rto)\n",
    "        \n",
    "        self.salesMen.append( salesMan )\n",
    "        self.noSalesMan += 1\n",
    "        \n",
    "        \n",
    "    def total(self):\n",
    "        \n",
    "        total = 0\n",
    "        for salesman in self.salesMen:\n",
    "            total += salesman.total()\n",
    "            \n",
    "        return total\n",
    "    \n",
    "    def getSaleMan(self):\n",
    "        \n",
    "        for saleMan in self.salesMen:\n",
    "            if not saleMan.busy:\n",
    "                saleMan.busy = True\n",
    "                return saleMan\n",
    "            \n",
    "        print( \"All sales man are busy. Please wait in Lounge.\")\n",
    "        \n",
    "        return None\n",
    "    \n",
    "    def show(self):\n",
    "        \n",
    "        for salesman in self.salesMen:\n",
    "            print(saleman, \"\\n\\t\", salesman.show() )\n",
    "\n",
    "            \n",
    "    # def registerCar(self, )\n",
    "            \n",
    "        "
   ]
  },
  {
   "cell_type": "code",
   "execution_count": 167,
   "metadata": {},
   "outputs": [
    {
     "data": {
      "text/plain": [
       "[SalesMan - Muni, SalesMan - Sai, SalesMan - Vamsi]"
      ]
     },
     "execution_count": 167,
     "metadata": {},
     "output_type": "execute_result"
    }
   ],
   "source": [
    "showroom = ShowRoom(\"WhiteFieldBenz\")\n",
    "allSalesMan = [\"Muni\", \"Sai\", \"Vamsi\"]\n",
    "\n",
    "rto = \"krpuram\"\n",
    "for saleman in allSalesMan: \n",
    "    showroom.addSalesMan(saleman, rto)\n",
    "\n",
    "showroom.salesMen"
   ]
  },
  {
   "cell_type": "code",
   "execution_count": null,
   "metadata": {},
   "outputs": [],
   "source": []
  },
  {
   "cell_type": "code",
   "execution_count": 168,
   "metadata": {},
   "outputs": [],
   "source": [
    "# saleMan = showroom.getSaleMan()"
   ]
  },
  {
   "cell_type": "code",
   "execution_count": 169,
   "metadata": {},
   "outputs": [],
   "source": [
    "clients = [ \n",
    "    [\"a-class\", \"Rajitha\"],\n",
    "    [\"e-class\", \"Satheesh\"],\n",
    "    # [\"c-class\", \"SaiReddy\"],\n",
    "]\n",
    "\n",
    "for model, client in clients:\n",
    "    saleMan = showroom.getSaleMan()\n",
    "    saleMan.buy(model, client)\n",
    "    \n",
    "    "
   ]
  },
  {
   "cell_type": "code",
   "execution_count": 170,
   "metadata": {},
   "outputs": [
    {
     "data": {
      "text/plain": [
       "[BenzCar - KA 27 Z 0713]"
      ]
     },
     "execution_count": 170,
     "metadata": {},
     "output_type": "execute_result"
    }
   ],
   "source": [
    "saleMan.soldCars"
   ]
  },
  {
   "cell_type": "code",
   "execution_count": 171,
   "metadata": {},
   "outputs": [
    {
     "data": {
      "text/plain": [
       "65"
      ]
     },
     "execution_count": 171,
     "metadata": {},
     "output_type": "execute_result"
    }
   ],
   "source": [
    "saleMan.total()"
   ]
  },
  {
   "cell_type": "code",
   "execution_count": 172,
   "metadata": {},
   "outputs": [
    {
     "data": {
      "text/plain": [
       "[SalesMan - Muni, SalesMan - Sai, SalesMan - Vamsi]"
      ]
     },
     "execution_count": 172,
     "metadata": {},
     "output_type": "execute_result"
    }
   ],
   "source": [
    "showroom.salesMen"
   ]
  },
  {
   "cell_type": "code",
   "execution_count": 173,
   "metadata": {},
   "outputs": [
    {
     "data": {
      "text/plain": [
       "100"
      ]
     },
     "execution_count": 173,
     "metadata": {},
     "output_type": "execute_result"
    }
   ],
   "source": [
    "showroom.total()"
   ]
  },
  {
   "cell_type": "code",
   "execution_count": 174,
   "metadata": {},
   "outputs": [
    {
     "data": {
      "text/plain": [
       "[BenzCar - KA 27 Z 0713]"
      ]
     },
     "execution_count": 174,
     "metadata": {},
     "output_type": "execute_result"
    }
   ],
   "source": [
    "showroom.salesMen[1].soldCars"
   ]
  },
  {
   "cell_type": "code",
   "execution_count": 175,
   "metadata": {},
   "outputs": [
    {
     "name": "stdout",
     "output_type": "stream",
     "text": [
      "    KA 27 Z 1630\n",
      "Vamsi \n",
      "\t None\n",
      "    KA 27 Z 0713\n",
      "Vamsi \n",
      "\t None\n",
      "Vamsi \n",
      "\t None\n"
     ]
    }
   ],
   "source": [
    "showroom.show()"
   ]
  },
  {
   "cell_type": "code",
   "execution_count": null,
   "metadata": {},
   "outputs": [],
   "source": []
  }
 ],
 "metadata": {
  "kernelspec": {
   "display_name": "Python 3",
   "language": "python",
   "name": "python3"
  },
  "language_info": {
   "codemirror_mode": {
    "name": "ipython",
    "version": 3
   },
   "file_extension": ".py",
   "mimetype": "text/x-python",
   "name": "python",
   "nbconvert_exporter": "python",
   "pygments_lexer": "ipython3",
   "version": "3.6.5"
  }
 },
 "nbformat": 4,
 "nbformat_minor": 2
}
